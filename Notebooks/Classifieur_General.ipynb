{
 "cells": [
  {
   "cell_type": "markdown",
   "metadata": {
    "colab_type": "text",
    "id": "7CttfKlwHAuf"
   },
   "source": [
    "# **Classifieur n°1 : pertinence globale**"
   ]
  },
  {
   "cell_type": "markdown",
   "metadata": {
    "colab_type": "text",
    "id": "5zM9GYn8f7ZR"
   },
   "source": [
    "## **Importation**"
   ]
  },
  {
   "cell_type": "code",
   "execution_count": 0,
   "metadata": {
    "colab": {},
    "colab_type": "code",
    "id": "fPbQrUMjw7T4"
   },
   "outputs": [],
   "source": [
    "#!pip install -U spacy\n",
    "#!python -m spacy download fr_core_news_md"
   ]
  },
  {
   "cell_type": "code",
   "execution_count": 101,
   "metadata": {
    "colab": {
     "base_uri": "https://localhost:8080/",
     "height": 54
    },
    "colab_type": "code",
    "executionInfo": {
     "elapsed": 17440,
     "status": "ok",
     "timestamp": 1580134004134,
     "user": {
      "displayName": "Makk Claire",
      "photoUrl": "https://lh3.googleusercontent.com/a-/AAuE7mBu1ZMQH3mpVpSuIuyc2aP_rat1JyDOTBBHgaS0uw=s64",
      "userId": "01263964114703492317"
     },
     "user_tz": -60
    },
    "id": "l43hF5Fhf5rf",
    "outputId": "5feb5af2-231f-4880-d8d4-b199860a1800"
   },
   "outputs": [
    {
     "name": "stdout",
     "output_type": "stream",
     "text": [
      "[nltk_data] Downloading package stopwords to /root/nltk_data...\n",
      "[nltk_data]   Package stopwords is already up-to-date!\n"
     ]
    }
   ],
   "source": [
    "import pandas as pd\n",
    "import spacy\n",
    "from collections import defaultdict, Counter\n",
    "import numpy as np\n",
    "from sklearn.externals import joblib\n",
    "\n",
    "#Importation pré-traitement\n",
    "import nltk\n",
    "from nltk.tokenize.regexp import WordPunctTokenizer\n",
    "from nltk.stem import SnowballStemmer\n",
    "from nltk.corpus import stopwords\n",
    "from sklearn.feature_extraction.text import TfidfVectorizer\n",
    "from sklearn.feature_extraction.text import CountVectorizer\n",
    "nltk.download('stopwords')\n",
    "sw=stopwords.words(\"french\")\n",
    "sw += ['être','avoir']\n",
    "nlp = spacy.load('fr_core_news_md')\n",
    "\n",
    "#Importation modèles\n",
    "from sklearn.model_selection import train_test_split\n",
    "from sklearn.metrics import accuracy_score\n",
    "from sklearn import model_selection\n",
    "from sklearn.svm import SVC\n",
    "from sklearn.linear_model import LogisticRegression\n",
    "from sklearn.ensemble import RandomForestClassifier\n",
    "from sklearn.linear_model import RidgeClassifier\n",
    "from sklearn.naive_bayes import MultinomialNB\n",
    "from sklearn.ensemble import AdaBoostClassifier\n",
    "from sklearn.ensemble import GradientBoostingClassifier\n",
    "\n",
    "#Importation données\n",
    "QA = pd.read_csv('../Data/Q&A.csv',sep=\";\")"
   ]
  },
  {
   "cell_type": "markdown",
   "metadata": {
    "colab_type": "text",
    "id": "h7HMfIKlgl-x"
   },
   "source": [
    "## **Pré-traitement**"
   ]
  },
  {
   "cell_type": "code",
   "execution_count": 0,
   "metadata": {
    "colab": {},
    "colab_type": "code",
    "id": "Qumo7hZKwgjH"
   },
   "outputs": [],
   "source": [
    "#Définition des fonctions de prétraitement du texte\n",
    "def lemmatise_text(text):\n",
    "  tw_nlp = nlp(text)\n",
    "  list_lem = [token.lemma_ for token in tw_nlp]\n",
    "  text_lem = ' '.join(list_lem)\n",
    "  return text_lem\n",
    "\n",
    "def stem_text(text):\n",
    "  tokenizer = WordPunctTokenizer()\n",
    "  stemmer = SnowballStemmer('french')\n",
    "  liste_racines = [stemmer.stem(token) for token in tokenizer.tokenize(text)]\n",
    "  return ' '.join(liste_racines)\n",
    "\n",
    "def normalise(text):\n",
    "  #stop words, strip accent et lowercase vont être fait automatiquement\n",
    "  text = text.replace('\\n','').replace('\\r','').split(\" \")\n",
    "  text = \" \".join([i for i in text if i!=\"\"])\n",
    "  lemmas = lemmatise_text(text) #lemme de notre texte\n",
    "  stems = stem_text(lemmas) #stem de notre texte A VOIR\n",
    "  return stems"
   ]
  },
  {
   "cell_type": "code",
   "execution_count": 0,
   "metadata": {
    "colab": {},
    "colab_type": "code",
    "id": "oJxjniFxHFkQ"
   },
   "outputs": [],
   "source": [
    "#Une partie du corpus conversationnel\n",
    "f = open(\"../Data/OpenSubtitles.fr-is.fr\", mode='r', encoding='utf-8')\n",
    "corpus_conv = f.readlines()[:156]\n",
    "themes_corpus_conv = ['autres']*len(corpus_conv)\n",
    "\n",
    "#Rassemblement questions et réponses pour créer un corpus (= liste de documents)\n",
    "corpus_QA = list(QA.Answers) + list(QA.Questions)\n",
    "themes_corpus_QA = ['metier']*len(corpus_QA)\n",
    "\n",
    "#Création du corpus pour le classifieur de pertinence globale\n",
    "corpus1 = corpus_conv + corpus_QA\n",
    "themes1 = themes_corpus_conv + themes_corpus_QA\n",
    "\n",
    "#Normalisation du corpus\n",
    "collection1 = pd.Series(corpus1)\n",
    "collection1 = collection1.apply(normalise)"
   ]
  },
  {
   "cell_type": "code",
   "execution_count": 0,
   "metadata": {
    "colab": {},
    "colab_type": "code",
    "id": "If-vQjL5KOrY"
   },
   "outputs": [],
   "source": [
    "#Création train et validation\n",
    "X_train, X_valid, y_train, y_valid = train_test_split(collection1,\n",
    "                                                      themes1,\n",
    "                                                      train_size=0.75,\n",
    "                                                      random_state=5)"
   ]
  },
  {
   "cell_type": "code",
   "execution_count": 105,
   "metadata": {
    "colab": {
     "base_uri": "https://localhost:8080/",
     "height": 74
    },
    "colab_type": "code",
    "executionInfo": {
     "elapsed": 21131,
     "status": "ok",
     "timestamp": 1580134008661,
     "user": {
      "displayName": "Makk Claire",
      "photoUrl": "https://lh3.googleusercontent.com/a-/AAuE7mBu1ZMQH3mpVpSuIuyc2aP_rat1JyDOTBBHgaS0uw=s64",
      "userId": "01263964114703492317"
     },
     "user_tz": -60
    },
    "id": "zDxgxEdDaXwF",
    "outputId": "b039fee5-7b2c-4ea3-acce-34513765600e"
   },
   "outputs": [
    {
     "name": "stderr",
     "output_type": "stream",
     "text": [
      "/usr/local/lib/python3.6/dist-packages/sklearn/feature_extraction/text.py:385: UserWarning: Your stop_words may be inconsistent with your preprocessing. Tokenizing the stop words generated tokens ['etaient', 'etais', 'etait', 'etant', 'etante', 'etantes', 'etants', 'ete', 'etee', 'etees', 'etes', 'etiez', 'etions', 'etre', 'eumes', 'eutes', 'fumes', 'futes', 'meme'] not in stop_words.\n",
      "  'stop_words.' % sorted(inconsistent))\n"
     ]
    }
   ],
   "source": [
    "#Création du vectorizer bin sur X_train : BINAIRE\n",
    "vectorizer = CountVectorizer(lowercase=True,\n",
    "                             stop_words=sw,\n",
    "                             strip_accents='unicode',\n",
    "                             binary=True).fit(X_train)\n",
    "X_train_vectorized_bin = vectorizer.transform(X_train)\n",
    "X_valid_vectorized_bin = vectorizer.transform(X_valid)"
   ]
  },
  {
   "cell_type": "code",
   "execution_count": 106,
   "metadata": {
    "colab": {
     "base_uri": "https://localhost:8080/",
     "height": 74
    },
    "colab_type": "code",
    "executionInfo": {
     "elapsed": 20986,
     "status": "ok",
     "timestamp": 1580134008663,
     "user": {
      "displayName": "Makk Claire",
      "photoUrl": "https://lh3.googleusercontent.com/a-/AAuE7mBu1ZMQH3mpVpSuIuyc2aP_rat1JyDOTBBHgaS0uw=s64",
      "userId": "01263964114703492317"
     },
     "user_tz": -60
    },
    "id": "JHlasV4vlBs5",
    "outputId": "5d5f0703-99a2-44c8-aa22-3a0e1f1c78c2"
   },
   "outputs": [
    {
     "name": "stderr",
     "output_type": "stream",
     "text": [
      "/usr/local/lib/python3.6/dist-packages/sklearn/feature_extraction/text.py:385: UserWarning: Your stop_words may be inconsistent with your preprocessing. Tokenizing the stop words generated tokens ['etaient', 'etais', 'etait', 'etant', 'etante', 'etantes', 'etants', 'ete', 'etee', 'etees', 'etes', 'etiez', 'etions', 'etre', 'eumes', 'eutes', 'fumes', 'futes', 'meme'] not in stop_words.\n",
      "  'stop_words.' % sorted(inconsistent))\n"
     ]
    }
   ],
   "source": [
    "#Création du vectorizer count sur X_train : COUNT\n",
    "vectorizer = CountVectorizer(lowercase=True,\n",
    "                             stop_words=sw,\n",
    "                             strip_accents='unicode',\n",
    "                             binary=False).fit(X_train)\n",
    "X_train_vectorized_count = vectorizer.transform(X_train)\n",
    "X_valid_vectorized_count = vectorizer.transform(X_valid)"
   ]
  },
  {
   "cell_type": "code",
   "execution_count": 107,
   "metadata": {
    "colab": {
     "base_uri": "https://localhost:8080/",
     "height": 74
    },
    "colab_type": "code",
    "executionInfo": {
     "elapsed": 20834,
     "status": "ok",
     "timestamp": 1580134008664,
     "user": {
      "displayName": "Makk Claire",
      "photoUrl": "https://lh3.googleusercontent.com/a-/AAuE7mBu1ZMQH3mpVpSuIuyc2aP_rat1JyDOTBBHgaS0uw=s64",
      "userId": "01263964114703492317"
     },
     "user_tz": -60
    },
    "id": "ZuSdaTR4dgVz",
    "outputId": "28ce43a3-b5ab-402c-d195-c8f971b09af3"
   },
   "outputs": [
    {
     "name": "stderr",
     "output_type": "stream",
     "text": [
      "/usr/local/lib/python3.6/dist-packages/sklearn/feature_extraction/text.py:385: UserWarning: Your stop_words may be inconsistent with your preprocessing. Tokenizing the stop words generated tokens ['etaient', 'etais', 'etait', 'etant', 'etante', 'etantes', 'etants', 'ete', 'etee', 'etees', 'etes', 'etiez', 'etions', 'etre', 'eumes', 'eutes', 'fumes', 'futes', 'meme'] not in stop_words.\n",
      "  'stop_words.' % sorted(inconsistent))\n"
     ]
    }
   ],
   "source": [
    "#Création du vectorizer tfidf sur X_train : TFIDF\n",
    "vectorizer = TfidfVectorizer(lowercase=True,\n",
    "                             stop_words=sw,\n",
    "                             strip_accents='unicode',\n",
    "                             max_df=0.5).fit(X_train)\n",
    "X_train_vectorized_tfidf = vectorizer.transform(X_train)\n",
    "X_valid_vectorized_tfidf = vectorizer.transform(X_valid)"
   ]
  },
  {
   "cell_type": "code",
   "execution_count": 0,
   "metadata": {
    "colab": {},
    "colab_type": "code",
    "id": "wE97ZlVzbw24"
   },
   "outputs": [],
   "source": [
    "resultat_binaire = {}\n",
    "resultat_count = {}\n",
    "resultat_tfidf = {}"
   ]
  },
  {
   "cell_type": "markdown",
   "metadata": {
    "colab_type": "text",
    "id": "TZe_xO_WgTML"
   },
   "source": [
    "## **SVM**\n",
    "**Vectorizer Binaire**"
   ]
  },
  {
   "cell_type": "code",
   "execution_count": 0,
   "metadata": {
    "colab": {},
    "colab_type": "code",
    "id": "TL3Oz72Cai_b"
   },
   "outputs": [],
   "source": [
    "param_grid = {'C': np.arange(0.1,10,0.1),'gamma':np.arange(0.009,1,0.1)} \n",
    "mvs = SVC(kernel = 'rbf')\n",
    "grid = model_selection.GridSearchCV(estimator=mvs,param_grid=param_grid,cv = 4, scoring='accuracy', n_jobs = -1)"
   ]
  },
  {
   "cell_type": "code",
   "execution_count": 110,
   "metadata": {
    "colab": {
     "base_uri": "https://localhost:8080/",
     "height": 54
    },
    "colab_type": "code",
    "executionInfo": {
     "elapsed": 38693,
     "status": "ok",
     "timestamp": 1580134027390,
     "user": {
      "displayName": "Makk Claire",
      "photoUrl": "https://lh3.googleusercontent.com/a-/AAuE7mBu1ZMQH3mpVpSuIuyc2aP_rat1JyDOTBBHgaS0uw=s64",
      "userId": "01263964114703492317"
     },
     "user_tz": -60
    },
    "id": "IE1-L8JKamwR",
    "outputId": "5a0e9ff5-5eeb-4f30-f89e-a20a10579242"
   },
   "outputs": [
    {
     "name": "stdout",
     "output_type": "stream",
     "text": [
      "{'C': 2.2, 'gamma': 0.109} 0.9060490940970193\n",
      "0.9914529914529915 0.8717948717948718\n"
     ]
    }
   ],
   "source": [
    "#Recherche des meilleurs paramètres\n",
    "grille = grid.fit(X_train_vectorized_bin, y_train)\n",
    "print(grille.best_params_,grille.best_score_)\n",
    "predictions_valid = grille.predict(X_valid_vectorized_bin)\n",
    "predictions_train = grille.predict(X_train_vectorized_bin)\n",
    "print(accuracy_score(y_train, predictions_train),accuracy_score(y_valid, predictions_valid))\n",
    "resultat_binaire['SVM']=accuracy_score(y_valid, predictions_valid)"
   ]
  },
  {
   "cell_type": "markdown",
   "metadata": {
    "colab_type": "text",
    "id": "Y2E0IDXnlUtg"
   },
   "source": [
    "**Vectorizer count**"
   ]
  },
  {
   "cell_type": "code",
   "execution_count": 111,
   "metadata": {
    "colab": {
     "base_uri": "https://localhost:8080/",
     "height": 54
    },
    "colab_type": "code",
    "executionInfo": {
     "elapsed": 62289,
     "status": "ok",
     "timestamp": 1580134051646,
     "user": {
      "displayName": "Makk Claire",
      "photoUrl": "https://lh3.googleusercontent.com/a-/AAuE7mBu1ZMQH3mpVpSuIuyc2aP_rat1JyDOTBBHgaS0uw=s64",
      "userId": "01263964114703492317"
     },
     "user_tz": -60
    },
    "id": "eIt7KwLWlW-_",
    "outputId": "f21e34fd-9b42-4fac-a05d-0272e102aa86"
   },
   "outputs": [
    {
     "name": "stdout",
     "output_type": "stream",
     "text": [
      "{'C': 5.6, 'gamma': 0.109} 0.9060490940970193\n",
      "1.0 0.8846153846153846\n"
     ]
    }
   ],
   "source": [
    "#Recherche des meilleurs paramètres\n",
    "grille = grid.fit(X_train_vectorized_count, y_train)\n",
    "print(grille.best_params_,grille.best_score_)\n",
    "predictions_valid = grille.predict(X_valid_vectorized_count)\n",
    "predictions_train = grille.predict(X_train_vectorized_count)\n",
    "print(accuracy_score(y_train, predictions_train),accuracy_score(y_valid, predictions_valid))\n",
    "resultat_count['SVM']=accuracy_score(y_valid, predictions_valid)"
   ]
  },
  {
   "cell_type": "markdown",
   "metadata": {
    "colab_type": "text",
    "id": "wAvW8Ysxd9WX"
   },
   "source": [
    "**Vectorizer tfidf**"
   ]
  },
  {
   "cell_type": "code",
   "execution_count": 112,
   "metadata": {
    "colab": {
     "base_uri": "https://localhost:8080/",
     "height": 54
    },
    "colab_type": "code",
    "executionInfo": {
     "elapsed": 75760,
     "status": "ok",
     "timestamp": 1580134065742,
     "user": {
      "displayName": "Makk Claire",
      "photoUrl": "https://lh3.googleusercontent.com/a-/AAuE7mBu1ZMQH3mpVpSuIuyc2aP_rat1JyDOTBBHgaS0uw=s64",
      "userId": "01263964114703492317"
     },
     "user_tz": -60
    },
    "id": "GHaJpzYleByk",
    "outputId": "9fdd86ab-21a1-41cf-c75c-c3a3822bdd8a"
   },
   "outputs": [
    {
     "name": "stdout",
     "output_type": "stream",
     "text": [
      "{'C': 4.8, 'gamma': 0.20900000000000002} 0.9060490940970193\n",
      "1.0 0.8974358974358975\n"
     ]
    }
   ],
   "source": [
    "#Recherche des meilleurs paramètres\n",
    "grille = grid.fit(X_train_vectorized_tfidf, y_train)\n",
    "print(grille.best_params_,grille.best_score_)\n",
    "predictions_valid = grille.predict(X_valid_vectorized_tfidf)\n",
    "predictions_train = grille.predict(X_train_vectorized_tfidf)\n",
    "print(accuracy_score(y_train, predictions_train),accuracy_score(y_valid, predictions_valid))\n",
    "resultat_tfidf['SVM']=accuracy_score(y_valid, predictions_valid)"
   ]
  },
  {
   "cell_type": "markdown",
   "metadata": {
    "colab_type": "text",
    "id": "lAozZUi8bS03"
   },
   "source": [
    "## **Régression logistique**\n",
    "**Vectorizer Binaire**"
   ]
  },
  {
   "cell_type": "code",
   "execution_count": 0,
   "metadata": {
    "colab": {},
    "colab_type": "code",
    "id": "Ks8VH-rJbhc-"
   },
   "outputs": [],
   "source": [
    "param_grid = {'C': np.arange(0.5,5,0.1)} \n",
    "mlr = LogisticRegression(multi_class='multinomial', solver='lbfgs', max_iter = 1500)\n",
    "grid = model_selection.GridSearchCV(estimator=mlr,param_grid=param_grid,cv = 4, scoring='accuracy', n_jobs = -1)"
   ]
  },
  {
   "cell_type": "code",
   "execution_count": 114,
   "metadata": {
    "colab": {
     "base_uri": "https://localhost:8080/",
     "height": 54
    },
    "colab_type": "code",
    "executionInfo": {
     "elapsed": 77467,
     "status": "ok",
     "timestamp": 1580134067735,
     "user": {
      "displayName": "Makk Claire",
      "photoUrl": "https://lh3.googleusercontent.com/a-/AAuE7mBu1ZMQH3mpVpSuIuyc2aP_rat1JyDOTBBHgaS0uw=s64",
      "userId": "01263964114703492317"
     },
     "user_tz": -60
    },
    "id": "Xnj2PaVbcEcv",
    "outputId": "713a1d33-a8bf-4ce2-c95c-7061f1928c53"
   },
   "outputs": [
    {
     "name": "stdout",
     "output_type": "stream",
     "text": [
      "{'C': 3.2999999999999994} 0.8847165400350672\n",
      "1.0 0.8461538461538461\n"
     ]
    }
   ],
   "source": [
    "#Recherche des meilleurs paramètres\n",
    "grille = grid.fit(X_train_vectorized_bin, y_train)\n",
    "print(grille.best_params_,grille.best_score_)\n",
    "predictions_valid = grille.predict(X_valid_vectorized_bin)\n",
    "predictions_train = grille.predict(X_train_vectorized_bin)\n",
    "print(accuracy_score(y_train, predictions_train),accuracy_score(y_valid, predictions_valid))\n",
    "resultat_binaire['log']=accuracy_score(y_valid, predictions_valid)"
   ]
  },
  {
   "cell_type": "markdown",
   "metadata": {
    "colab_type": "text",
    "id": "GQGv17SBliH4"
   },
   "source": [
    "**Vectorizer count**"
   ]
  },
  {
   "cell_type": "code",
   "execution_count": 115,
   "metadata": {
    "colab": {
     "base_uri": "https://localhost:8080/",
     "height": 54
    },
    "colab_type": "code",
    "executionInfo": {
     "elapsed": 79733,
     "status": "ok",
     "timestamp": 1580134070171,
     "user": {
      "displayName": "Makk Claire",
      "photoUrl": "https://lh3.googleusercontent.com/a-/AAuE7mBu1ZMQH3mpVpSuIuyc2aP_rat1JyDOTBBHgaS0uw=s64",
      "userId": "01263964114703492317"
     },
     "user_tz": -60
    },
    "id": "pG3qH16plhqh",
    "outputId": "429aaa47-1486-498d-88f2-030a51d78390"
   },
   "outputs": [
    {
     "name": "stdout",
     "output_type": "stream",
     "text": [
      "{'C': 2.5999999999999996} 0.8847165400350672\n",
      "1.0 0.8589743589743589\n"
     ]
    }
   ],
   "source": [
    "#Recherche des meilleurs paramètres\n",
    "grille = grid.fit(X_train_vectorized_count, y_train)\n",
    "print(grille.best_params_,grille.best_score_)\n",
    "predictions_valid = grille.predict(X_valid_vectorized_count)\n",
    "predictions_train = grille.predict(X_train_vectorized_count)\n",
    "print(accuracy_score(y_train, predictions_train),accuracy_score(y_valid, predictions_valid))\n",
    "resultat_count['log']=accuracy_score(y_valid, predictions_valid)"
   ]
  },
  {
   "cell_type": "markdown",
   "metadata": {
    "colab_type": "text",
    "id": "8PZn19BJepSz"
   },
   "source": [
    "**Vectorizer tfidf**"
   ]
  },
  {
   "cell_type": "code",
   "execution_count": 116,
   "metadata": {
    "colab": {
     "base_uri": "https://localhost:8080/",
     "height": 54
    },
    "colab_type": "code",
    "executionInfo": {
     "elapsed": 81551,
     "status": "ok",
     "timestamp": 1580134072190,
     "user": {
      "displayName": "Makk Claire",
      "photoUrl": "https://lh3.googleusercontent.com/a-/AAuE7mBu1ZMQH3mpVpSuIuyc2aP_rat1JyDOTBBHgaS0uw=s64",
      "userId": "01263964114703492317"
     },
     "user_tz": -60
    },
    "id": "nDragJ4ac0SJ",
    "outputId": "863eb7a1-06ac-412e-9d4d-e1ac8ea48230"
   },
   "outputs": [
    {
     "name": "stdout",
     "output_type": "stream",
     "text": [
      "{'C': 3.1999999999999993} 0.8933372296902397\n",
      "1.0 0.8717948717948718\n"
     ]
    }
   ],
   "source": [
    "#Recherche des meilleurs paramètres\n",
    "grille = grid.fit(X_train_vectorized_tfidf, y_train)\n",
    "print(grille.best_params_,grille.best_score_)\n",
    "predictions_valid = grille.predict(X_valid_vectorized_tfidf)\n",
    "predictions_train = grille.predict(X_train_vectorized_tfidf)\n",
    "print(accuracy_score(y_train, predictions_train),accuracy_score(y_valid, predictions_valid))\n",
    "resultat_tfidf['log']=accuracy_score(y_valid, predictions_valid)"
   ]
  },
  {
   "cell_type": "markdown",
   "metadata": {
    "colab_type": "text",
    "id": "5sWt88sufMg7"
   },
   "source": [
    "## **Random Forest**\n",
    "**Vectorizer Binaire**"
   ]
  },
  {
   "cell_type": "code",
   "execution_count": 0,
   "metadata": {
    "colab": {},
    "colab_type": "code",
    "id": "1L7aAfn5fXKR"
   },
   "outputs": [],
   "source": [
    "model_rf = RandomForestClassifier(n_estimators=1000, oob_score = True)"
   ]
  },
  {
   "cell_type": "code",
   "execution_count": 118,
   "metadata": {
    "colab": {
     "base_uri": "https://localhost:8080/",
     "height": 35
    },
    "colab_type": "code",
    "executionInfo": {
     "elapsed": 83327,
     "status": "ok",
     "timestamp": 1580134074239,
     "user": {
      "displayName": "Makk Claire",
      "photoUrl": "https://lh3.googleusercontent.com/a-/AAuE7mBu1ZMQH3mpVpSuIuyc2aP_rat1JyDOTBBHgaS0uw=s64",
      "userId": "01263964114703492317"
     },
     "user_tz": -60
    },
    "id": "KTkH2OelfFvL",
    "outputId": "728849ed-2eba-4914-c11b-5f92d0bfa5cc"
   },
   "outputs": [
    {
     "name": "stdout",
     "output_type": "stream",
     "text": [
      "1.0 0.8205128205128205\n"
     ]
    }
   ],
   "source": [
    "model_rf.fit(X_train_vectorized_bin, y_train)\n",
    "predictions_valid = model_rf.predict(X_valid_vectorized_bin)\n",
    "predictions_train = model_rf.predict(X_train_vectorized_bin)\n",
    "print(accuracy_score(y_train,predictions_train),accuracy_score(y_valid, predictions_valid))\n",
    "resultat_binaire['rf']=accuracy_score(y_valid, predictions_valid)"
   ]
  },
  {
   "cell_type": "markdown",
   "metadata": {
    "colab_type": "text",
    "id": "dUQZ8Yv3ls1I"
   },
   "source": [
    "**Vectorizer count**"
   ]
  },
  {
   "cell_type": "code",
   "execution_count": 119,
   "metadata": {
    "colab": {
     "base_uri": "https://localhost:8080/",
     "height": 35
    },
    "colab_type": "code",
    "executionInfo": {
     "elapsed": 85335,
     "status": "ok",
     "timestamp": 1580134076443,
     "user": {
      "displayName": "Makk Claire",
      "photoUrl": "https://lh3.googleusercontent.com/a-/AAuE7mBu1ZMQH3mpVpSuIuyc2aP_rat1JyDOTBBHgaS0uw=s64",
      "userId": "01263964114703492317"
     },
     "user_tz": -60
    },
    "id": "ZqLv9wyUlvm9",
    "outputId": "e45d4bab-6619-4e99-f854-7929c029a596"
   },
   "outputs": [
    {
     "name": "stdout",
     "output_type": "stream",
     "text": [
      "1.0 0.8076923076923077\n"
     ]
    }
   ],
   "source": [
    "model_rf.fit(X_train_vectorized_count, y_train)\n",
    "predictions_valid = model_rf.predict(X_valid_vectorized_count)\n",
    "predictions_train = model_rf.predict(X_train_vectorized_count)\n",
    "print(accuracy_score(y_train,predictions_train),accuracy_score(y_valid, predictions_valid))\n",
    "resultat_count['rf']=accuracy_score(y_valid, predictions_valid)"
   ]
  },
  {
   "cell_type": "markdown",
   "metadata": {
    "colab_type": "text",
    "id": "iB3XAfvhgj49"
   },
   "source": [
    "**Vectorizer tfidf**"
   ]
  },
  {
   "cell_type": "code",
   "execution_count": 120,
   "metadata": {
    "colab": {
     "base_uri": "https://localhost:8080/",
     "height": 35
    },
    "colab_type": "code",
    "executionInfo": {
     "elapsed": 87387,
     "status": "ok",
     "timestamp": 1580134078661,
     "user": {
      "displayName": "Makk Claire",
      "photoUrl": "https://lh3.googleusercontent.com/a-/AAuE7mBu1ZMQH3mpVpSuIuyc2aP_rat1JyDOTBBHgaS0uw=s64",
      "userId": "01263964114703492317"
     },
     "user_tz": -60
    },
    "id": "4NeZPkYUfzj8",
    "outputId": "66c17e3d-65c0-4282-b7e8-34c7a4e929a6"
   },
   "outputs": [
    {
     "name": "stdout",
     "output_type": "stream",
     "text": [
      "1.0 0.8461538461538461\n"
     ]
    }
   ],
   "source": [
    "model_rf.fit(X_train_vectorized_tfidf, y_train)\n",
    "predictions_valid = model_rf.predict(X_valid_vectorized_tfidf)\n",
    "predictions_train = model_rf.predict(X_train_vectorized_tfidf)\n",
    "print(accuracy_score(y_train,predictions_train),accuracy_score(y_valid, predictions_valid))\n",
    "resultat_tfidf['rf']=accuracy_score(y_valid, predictions_valid)"
   ]
  },
  {
   "cell_type": "markdown",
   "metadata": {
    "colab_type": "text",
    "id": "6VQm3uIQmx7u"
   },
   "source": [
    "## **Ridge Regression**\n",
    "**Vectorizer Binaire**"
   ]
  },
  {
   "cell_type": "code",
   "execution_count": 0,
   "metadata": {
    "colab": {},
    "colab_type": "code",
    "id": "DVg6mSVHnDov"
   },
   "outputs": [],
   "source": [
    "param_grid = {'alpha': [0.001,0.01,0.01,0.1,1,10,100]}\n",
    "mridge = RidgeClassifier(tol=0.01)\n",
    "grid = model_selection.GridSearchCV(estimator=mridge,param_grid=param_grid,cv = 4, scoring='accuracy', n_jobs = -1)"
   ]
  },
  {
   "cell_type": "code",
   "execution_count": 122,
   "metadata": {
    "colab": {
     "base_uri": "https://localhost:8080/",
     "height": 54
    },
    "colab_type": "code",
    "executionInfo": {
     "elapsed": 87107,
     "status": "ok",
     "timestamp": 1580134078662,
     "user": {
      "displayName": "Makk Claire",
      "photoUrl": "https://lh3.googleusercontent.com/a-/AAuE7mBu1ZMQH3mpVpSuIuyc2aP_rat1JyDOTBBHgaS0uw=s64",
      "userId": "01263964114703492317"
     },
     "user_tz": -60
    },
    "id": "KrW56HYyny0V",
    "outputId": "421317af-267d-4111-9a9b-032eb2ce6893"
   },
   "outputs": [
    {
     "name": "stdout",
     "output_type": "stream",
     "text": [
      "{'alpha': 1} 0.841832261835184\n",
      "1.0 0.8205128205128205\n"
     ]
    }
   ],
   "source": [
    "#Recherche des meilleurs paramètres\n",
    "grille = grid.fit(X_train_vectorized_bin, y_train)\n",
    "print(grille.best_params_,grille.best_score_)\n",
    "predictions_valid = grille.predict(X_valid_vectorized_bin)\n",
    "predictions_train = grille.predict(X_train_vectorized_bin)\n",
    "print(accuracy_score(y_train, predictions_train),accuracy_score(y_valid, predictions_valid))\n",
    "resultat_binaire['ridge']=accuracy_score(y_valid, predictions_valid)"
   ]
  },
  {
   "cell_type": "markdown",
   "metadata": {
    "colab_type": "text",
    "id": "5BoVj0i-m2KL"
   },
   "source": [
    "**Vectorizer count**"
   ]
  },
  {
   "cell_type": "code",
   "execution_count": 123,
   "metadata": {
    "colab": {
     "base_uri": "https://localhost:8080/",
     "height": 54
    },
    "colab_type": "code",
    "executionInfo": {
     "elapsed": 87506,
     "status": "ok",
     "timestamp": 1580134079232,
     "user": {
      "displayName": "Makk Claire",
      "photoUrl": "https://lh3.googleusercontent.com/a-/AAuE7mBu1ZMQH3mpVpSuIuyc2aP_rat1JyDOTBBHgaS0uw=s64",
      "userId": "01263964114703492317"
     },
     "user_tz": -60
    },
    "id": "HQXl6tw-pFc0",
    "outputId": "58778d3f-4757-4bb4-8859-f30b507b5676"
   },
   "outputs": [
    {
     "name": "stdout",
     "output_type": "stream",
     "text": [
      "{'alpha': 1} 0.8204266510812391\n",
      "1.0 0.8589743589743589\n"
     ]
    }
   ],
   "source": [
    "#Recherche des meilleurs paramètres\n",
    "grille = grid.fit(X_train_vectorized_count, y_train)\n",
    "print(grille.best_params_,grille.best_score_)\n",
    "predictions_valid = grille.predict(X_valid_vectorized_count)\n",
    "predictions_train = grille.predict(X_train_vectorized_count)\n",
    "print(accuracy_score(y_train, predictions_train),accuracy_score(y_valid, predictions_valid))\n",
    "resultat_count['ridge']=accuracy_score(y_valid, predictions_valid)"
   ]
  },
  {
   "cell_type": "markdown",
   "metadata": {
    "colab_type": "text",
    "id": "S3hvqXWtm4--"
   },
   "source": [
    "**Vectorizer tfidf**"
   ]
  },
  {
   "cell_type": "code",
   "execution_count": 124,
   "metadata": {
    "colab": {
     "base_uri": "https://localhost:8080/",
     "height": 54
    },
    "colab_type": "code",
    "executionInfo": {
     "elapsed": 87296,
     "status": "ok",
     "timestamp": 1580134079234,
     "user": {
      "displayName": "Makk Claire",
      "photoUrl": "https://lh3.googleusercontent.com/a-/AAuE7mBu1ZMQH3mpVpSuIuyc2aP_rat1JyDOTBBHgaS0uw=s64",
      "userId": "01263964114703492317"
     },
     "user_tz": -60
    },
    "id": "zowGyvjCpMJ6",
    "outputId": "e8f1fbfd-85a0-49f0-8372-a27828d82107"
   },
   "outputs": [
    {
     "name": "stdout",
     "output_type": "stream",
     "text": [
      "{'alpha': 0.001} 0.8975745178258329\n",
      "1.0 0.8846153846153846\n"
     ]
    }
   ],
   "source": [
    "#Recherche des meilleurs paramètres\n",
    "grille = grid.fit(X_train_vectorized_tfidf, y_train)\n",
    "print(grille.best_params_,grille.best_score_)\n",
    "predictions_valid = grille.predict(X_valid_vectorized_tfidf)\n",
    "predictions_train = grille.predict(X_train_vectorized_tfidf)\n",
    "print(accuracy_score(y_train, predictions_train),accuracy_score(y_valid, predictions_valid))\n",
    "resultat_tfidf['ridge']=accuracy_score(y_valid, predictions_valid)"
   ]
  },
  {
   "cell_type": "markdown",
   "metadata": {
    "colab_type": "text",
    "id": "kWfP_HCdq05Y"
   },
   "source": [
    "## **Naif bayésien**\n",
    "**Vectorizer binaire**"
   ]
  },
  {
   "cell_type": "code",
   "execution_count": 126,
   "metadata": {
    "colab": {
     "base_uri": "https://localhost:8080/",
     "height": 35
    },
    "colab_type": "code",
    "executionInfo": {
     "elapsed": 86897,
     "status": "ok",
     "timestamp": 1580134079236,
     "user": {
      "displayName": "Makk Claire",
      "photoUrl": "https://lh3.googleusercontent.com/a-/AAuE7mBu1ZMQH3mpVpSuIuyc2aP_rat1JyDOTBBHgaS0uw=s64",
      "userId": "01263964114703492317"
     },
     "user_tz": -60
    },
    "id": "RjAYhiCwq8Zs",
    "outputId": "14882691-238a-4746-c52a-4ac9a3198eac"
   },
   "outputs": [
    {
     "name": "stdout",
     "output_type": "stream",
     "text": [
      "0.9700854700854701 0.9102564102564102\n"
     ]
    }
   ],
   "source": [
    "model_nb = MultinomialNB().fit(X_train_vectorized_bin, y_train)\n",
    "predictions_valid = model_nb.predict(X_valid_vectorized_bin)\n",
    "predictions_train = model_nb.predict(X_train_vectorized_bin)\n",
    "print(accuracy_score(y_train, predictions_train),accuracy_score(y_valid, predictions_valid))\n",
    "resultat_binaire['naive']=accuracy_score(y_valid, predictions_valid)"
   ]
  },
  {
   "cell_type": "markdown",
   "metadata": {
    "colab_type": "text",
    "id": "W2JUiZcirPGq"
   },
   "source": [
    "**Vectorizer count**"
   ]
  },
  {
   "cell_type": "code",
   "execution_count": 127,
   "metadata": {
    "colab": {
     "base_uri": "https://localhost:8080/",
     "height": 35
    },
    "colab_type": "code",
    "executionInfo": {
     "elapsed": 86711,
     "status": "ok",
     "timestamp": 1580134079238,
     "user": {
      "displayName": "Makk Claire",
      "photoUrl": "https://lh3.googleusercontent.com/a-/AAuE7mBu1ZMQH3mpVpSuIuyc2aP_rat1JyDOTBBHgaS0uw=s64",
      "userId": "01263964114703492317"
     },
     "user_tz": -60
    },
    "id": "Y8j8YhVsrRs7",
    "outputId": "bf003da4-d917-43b3-9fbd-0af075b3b0c8"
   },
   "outputs": [
    {
     "name": "stdout",
     "output_type": "stream",
     "text": [
      "0.9401709401709402 0.8846153846153846\n"
     ]
    }
   ],
   "source": [
    "model_nb = MultinomialNB().fit(X_train_vectorized_count, y_train)\n",
    "predictions_valid = model_nb.predict(X_valid_vectorized_count)\n",
    "predictions_train = model_nb.predict(X_train_vectorized_count)\n",
    "print(accuracy_score(y_train, predictions_train),accuracy_score(y_valid, predictions_valid))\n",
    "resultat_count['naive']=accuracy_score(y_valid, predictions_valid)"
   ]
  },
  {
   "cell_type": "markdown",
   "metadata": {
    "colab_type": "text",
    "id": "1g3qNxTHrcGP"
   },
   "source": [
    "**Vectorizer tfidf**"
   ]
  },
  {
   "cell_type": "code",
   "execution_count": 128,
   "metadata": {
    "colab": {
     "base_uri": "https://localhost:8080/",
     "height": 35
    },
    "colab_type": "code",
    "executionInfo": {
     "elapsed": 86439,
     "status": "ok",
     "timestamp": 1580134079238,
     "user": {
      "displayName": "Makk Claire",
      "photoUrl": "https://lh3.googleusercontent.com/a-/AAuE7mBu1ZMQH3mpVpSuIuyc2aP_rat1JyDOTBBHgaS0uw=s64",
      "userId": "01263964114703492317"
     },
     "user_tz": -60
    },
    "id": "XTSSXvCIrRm0",
    "outputId": "26982acb-dcfa-494c-87bd-849576c6cfe1"
   },
   "outputs": [
    {
     "name": "stdout",
     "output_type": "stream",
     "text": [
      "0.9871794871794872 0.9102564102564102\n"
     ]
    }
   ],
   "source": [
    "model_nb = MultinomialNB().fit(X_train_vectorized_tfidf, y_train)\n",
    "predictions_valid = model_nb.predict(X_valid_vectorized_tfidf)\n",
    "predictions_train = model_nb.predict(X_train_vectorized_tfidf)\n",
    "print(accuracy_score(y_train, predictions_train),accuracy_score(y_valid, predictions_valid))\n",
    "resultat_tfidf['naive']=accuracy_score(y_valid, predictions_valid)"
   ]
  },
  {
   "cell_type": "markdown",
   "metadata": {
    "colab_type": "text",
    "id": "Nkz1HAuWn6Uv"
   },
   "source": [
    "## **Boosting**\n",
    "**Vectorizer binaire**"
   ]
  },
  {
   "cell_type": "code",
   "execution_count": 0,
   "metadata": {
    "colab": {},
    "colab_type": "code",
    "id": "FN8nbY1-n6VL"
   },
   "outputs": [],
   "source": [
    "param_grid = {'learning_rate':[0.01,0.1,1.0,10.0]}\n",
    "mboosting = GradientBoostingClassifier()\n",
    "grid = model_selection.GridSearchCV(estimator=mboosting,param_grid=param_grid,cv = 4, scoring='accuracy', n_jobs = -1)"
   ]
  },
  {
   "cell_type": "code",
   "execution_count": 130,
   "metadata": {
    "colab": {
     "base_uri": "https://localhost:8080/",
     "height": 35
    },
    "colab_type": "code",
    "executionInfo": {
     "elapsed": 88103,
     "status": "ok",
     "timestamp": 1580134081181,
     "user": {
      "displayName": "Makk Claire",
      "photoUrl": "https://lh3.googleusercontent.com/a-/AAuE7mBu1ZMQH3mpVpSuIuyc2aP_rat1JyDOTBBHgaS0uw=s64",
      "userId": "01263964114703492317"
     },
     "user_tz": -60
    },
    "id": "bK7DFMjHn6Vh",
    "outputId": "326e3c29-458b-47cd-c567-ab27e6646c1d"
   },
   "outputs": [
    {
     "name": "stdout",
     "output_type": "stream",
     "text": [
      "0.9914529914529915 0.8076923076923077\n"
     ]
    }
   ],
   "source": [
    "grille = grid.fit(X_train_vectorized_bin, y_train)\n",
    "predictions_valid = grille.predict(X_valid_vectorized_bin)\n",
    "predictions_train = grille.predict(X_train_vectorized_bin)\n",
    "print(accuracy_score(y_train, predictions_train),accuracy_score(y_valid, predictions_valid))\n",
    "resultat_binaire['boosting']=accuracy_score(y_valid, predictions_valid)"
   ]
  },
  {
   "cell_type": "markdown",
   "metadata": {
    "colab_type": "text",
    "id": "L5x4Gph7n6Vr"
   },
   "source": [
    "**Vectorizer count**"
   ]
  },
  {
   "cell_type": "code",
   "execution_count": 131,
   "metadata": {
    "colab": {
     "base_uri": "https://localhost:8080/",
     "height": 35
    },
    "colab_type": "code",
    "executionInfo": {
     "elapsed": 90120,
     "status": "ok",
     "timestamp": 1580134083664,
     "user": {
      "displayName": "Makk Claire",
      "photoUrl": "https://lh3.googleusercontent.com/a-/AAuE7mBu1ZMQH3mpVpSuIuyc2aP_rat1JyDOTBBHgaS0uw=s64",
      "userId": "01263964114703492317"
     },
     "user_tz": -60
    },
    "id": "LxhPsu7an6Vu",
    "outputId": "0c91c73c-8526-4e21-c549-6740c7a655a1"
   },
   "outputs": [
    {
     "name": "stdout",
     "output_type": "stream",
     "text": [
      "0.9914529914529915 0.8076923076923077\n"
     ]
    }
   ],
   "source": [
    "grille = grid.fit(X_train_vectorized_count, y_train)\n",
    "predictions_valid = grille.predict(X_valid_vectorized_count)\n",
    "predictions_train = grille.predict(X_train_vectorized_count)\n",
    "print(accuracy_score(y_train, predictions_train),accuracy_score(y_valid, predictions_valid))\n",
    "resultat_count['boosting']=accuracy_score(y_valid, predictions_valid)"
   ]
  },
  {
   "cell_type": "markdown",
   "metadata": {
    "colab_type": "text",
    "id": "JavX5R9gn6V2"
   },
   "source": [
    "**Vectorizer tfidf**"
   ]
  },
  {
   "cell_type": "code",
   "execution_count": 132,
   "metadata": {
    "colab": {
     "base_uri": "https://localhost:8080/",
     "height": 35
    },
    "colab_type": "code",
    "executionInfo": {
     "elapsed": 91688,
     "status": "ok",
     "timestamp": 1580134085381,
     "user": {
      "displayName": "Makk Claire",
      "photoUrl": "https://lh3.googleusercontent.com/a-/AAuE7mBu1ZMQH3mpVpSuIuyc2aP_rat1JyDOTBBHgaS0uw=s64",
      "userId": "01263964114703492317"
     },
     "user_tz": -60
    },
    "id": "gQdoUlASn6V7",
    "outputId": "72201913-179f-485e-9193-d03370e15d0f"
   },
   "outputs": [
    {
     "name": "stdout",
     "output_type": "stream",
     "text": [
      "1.0 0.8076923076923077\n"
     ]
    }
   ],
   "source": [
    "grille = grid.fit(X_train_vectorized_tfidf, y_train)\n",
    "predictions_valid = grille.predict(X_valid_vectorized_tfidf)\n",
    "predictions_train = grille.predict(X_train_vectorized_tfidf)\n",
    "print(accuracy_score(y_train, predictions_train),accuracy_score(y_valid, predictions_valid))\n",
    "resultat_tfidf['boosting']=accuracy_score(y_valid, predictions_valid)"
   ]
  },
  {
   "cell_type": "markdown",
   "metadata": {
    "colab_type": "text",
    "id": "jc6UUVnJp380"
   },
   "source": [
    "## **AdaBoostClassifier**\n",
    "**Vectorizer binaire**"
   ]
  },
  {
   "cell_type": "code",
   "execution_count": 0,
   "metadata": {
    "colab": {},
    "colab_type": "code",
    "id": "A77sc7xqp39P"
   },
   "outputs": [],
   "source": [
    "param_grid = {'learning_rate':[0.01,0.1,1.0,10.0], 'n_estimators':[50,60,70,80,90,100]}\n",
    "madaboost = AdaBoostClassifier()\n",
    "grid = model_selection.GridSearchCV(estimator=madaboost,param_grid=param_grid,cv = 4, scoring='accuracy', n_jobs = -1)"
   ]
  },
  {
   "cell_type": "code",
   "execution_count": 134,
   "metadata": {
    "colab": {
     "base_uri": "https://localhost:8080/",
     "height": 35
    },
    "colab_type": "code",
    "executionInfo": {
     "elapsed": 103205,
     "status": "ok",
     "timestamp": 1580134097229,
     "user": {
      "displayName": "Makk Claire",
      "photoUrl": "https://lh3.googleusercontent.com/a-/AAuE7mBu1ZMQH3mpVpSuIuyc2aP_rat1JyDOTBBHgaS0uw=s64",
      "userId": "01263964114703492317"
     },
     "user_tz": -60
    },
    "id": "t4nDbM1jp39r",
    "outputId": "bc7e0c22-96db-4df6-c662-807c1b564900"
   },
   "outputs": [
    {
     "name": "stdout",
     "output_type": "stream",
     "text": [
      "0.9743589743589743 0.8333333333333334\n"
     ]
    }
   ],
   "source": [
    "grille = grid.fit(X_train_vectorized_bin, y_train)\n",
    "predictions_valid = grille.predict(X_valid_vectorized_bin)\n",
    "predictions_train = grille.predict(X_train_vectorized_bin)\n",
    "print(accuracy_score(y_train, predictions_train),accuracy_score(y_valid, predictions_valid))\n",
    "resultat_binaire['adaboost']=accuracy_score(y_valid, predictions_valid)"
   ]
  },
  {
   "cell_type": "markdown",
   "metadata": {
    "colab_type": "text",
    "id": "Kp1z7cQcp397"
   },
   "source": [
    "**Vectorizer count**"
   ]
  },
  {
   "cell_type": "code",
   "execution_count": 135,
   "metadata": {
    "colab": {
     "base_uri": "https://localhost:8080/",
     "height": 35
    },
    "colab_type": "code",
    "executionInfo": {
     "elapsed": 114557,
     "status": "ok",
     "timestamp": 1580134108769,
     "user": {
      "displayName": "Makk Claire",
      "photoUrl": "https://lh3.googleusercontent.com/a-/AAuE7mBu1ZMQH3mpVpSuIuyc2aP_rat1JyDOTBBHgaS0uw=s64",
      "userId": "01263964114703492317"
     },
     "user_tz": -60
    },
    "id": "6mA_5RTBp39-",
    "outputId": "ff7a38d3-3b31-4aeb-e236-7ef5320e6154"
   },
   "outputs": [
    {
     "name": "stdout",
     "output_type": "stream",
     "text": [
      "0.9743589743589743 0.8333333333333334\n"
     ]
    }
   ],
   "source": [
    "grille = grid.fit(X_train_vectorized_count, y_train)\n",
    "predictions_valid = grille.predict(X_valid_vectorized_count)\n",
    "predictions_train = grille.predict(X_train_vectorized_count)\n",
    "print(accuracy_score(y_train, predictions_train),accuracy_score(y_valid, predictions_valid))\n",
    "resultat_count['adaboost']=accuracy_score(y_valid, predictions_valid)"
   ]
  },
  {
   "cell_type": "markdown",
   "metadata": {
    "colab_type": "text",
    "id": "z6K7PPpFp3-L"
   },
   "source": [
    "**Vectorizer tfidf**"
   ]
  },
  {
   "cell_type": "code",
   "execution_count": 136,
   "metadata": {
    "colab": {
     "base_uri": "https://localhost:8080/",
     "height": 35
    },
    "colab_type": "code",
    "executionInfo": {
     "elapsed": 126480,
     "status": "ok",
     "timestamp": 1580134120846,
     "user": {
      "displayName": "Makk Claire",
      "photoUrl": "https://lh3.googleusercontent.com/a-/AAuE7mBu1ZMQH3mpVpSuIuyc2aP_rat1JyDOTBBHgaS0uw=s64",
      "userId": "01263964114703492317"
     },
     "user_tz": -60
    },
    "id": "WtsOZxN9p3-P",
    "outputId": "d22ae10f-8619-4430-8693-6430a9de20c0"
   },
   "outputs": [
    {
     "name": "stdout",
     "output_type": "stream",
     "text": [
      "0.9914529914529915 0.8333333333333334\n"
     ]
    }
   ],
   "source": [
    "grille = grid.fit(X_train_vectorized_tfidf, y_train)\n",
    "predictions_valid = grille.predict(X_valid_vectorized_tfidf)\n",
    "predictions_train = grille.predict(X_train_vectorized_tfidf)\n",
    "print(accuracy_score(y_train, predictions_train),accuracy_score(y_valid, predictions_valid))\n",
    "resultat_tfidf['adaboost']=accuracy_score(y_valid, predictions_valid)"
   ]
  },
  {
   "cell_type": "markdown",
   "metadata": {
    "colab_type": "text",
    "id": "bmdQXJvV2-n2"
   },
   "source": [
    "## **Restitution de l'ensemble des résultats**"
   ]
  },
  {
   "cell_type": "code",
   "execution_count": 137,
   "metadata": {
    "colab": {
     "base_uri": "https://localhost:8080/",
     "height": 143
    },
    "colab_type": "code",
    "executionInfo": {
     "elapsed": 125774,
     "status": "ok",
     "timestamp": 1580134120849,
     "user": {
      "displayName": "Makk Claire",
      "photoUrl": "https://lh3.googleusercontent.com/a-/AAuE7mBu1ZMQH3mpVpSuIuyc2aP_rat1JyDOTBBHgaS0uw=s64",
      "userId": "01263964114703492317"
     },
     "user_tz": -60
    },
    "id": "trADYoubiHyY",
    "outputId": "56d68e36-58b1-46ec-d72d-350a127298c9"
   },
   "outputs": [
    {
     "data": {
      "text/html": [
       "<div>\n",
       "<style scoped>\n",
       "    .dataframe tbody tr th:only-of-type {\n",
       "        vertical-align: middle;\n",
       "    }\n",
       "\n",
       "    .dataframe tbody tr th {\n",
       "        vertical-align: top;\n",
       "    }\n",
       "\n",
       "    .dataframe thead th {\n",
       "        text-align: right;\n",
       "    }\n",
       "</style>\n",
       "<table border=\"1\" class=\"dataframe\">\n",
       "  <thead>\n",
       "    <tr style=\"text-align: right;\">\n",
       "      <th></th>\n",
       "      <th>SVM</th>\n",
       "      <th>log</th>\n",
       "      <th>rf</th>\n",
       "      <th>ridge</th>\n",
       "      <th>naive</th>\n",
       "      <th>boosting</th>\n",
       "      <th>adaboost</th>\n",
       "    </tr>\n",
       "  </thead>\n",
       "  <tbody>\n",
       "    <tr>\n",
       "      <th>binaire</th>\n",
       "      <td>0.871795</td>\n",
       "      <td>0.846154</td>\n",
       "      <td>0.820513</td>\n",
       "      <td>0.820513</td>\n",
       "      <td>0.910256</td>\n",
       "      <td>0.807692</td>\n",
       "      <td>0.833333</td>\n",
       "    </tr>\n",
       "    <tr>\n",
       "      <th>count</th>\n",
       "      <td>0.884615</td>\n",
       "      <td>0.858974</td>\n",
       "      <td>0.807692</td>\n",
       "      <td>0.858974</td>\n",
       "      <td>0.884615</td>\n",
       "      <td>0.807692</td>\n",
       "      <td>0.833333</td>\n",
       "    </tr>\n",
       "    <tr>\n",
       "      <th>tfidf</th>\n",
       "      <td>0.897436</td>\n",
       "      <td>0.871795</td>\n",
       "      <td>0.846154</td>\n",
       "      <td>0.884615</td>\n",
       "      <td>0.910256</td>\n",
       "      <td>0.807692</td>\n",
       "      <td>0.833333</td>\n",
       "    </tr>\n",
       "  </tbody>\n",
       "</table>\n",
       "</div>"
      ],
      "text/plain": [
       "              SVM       log        rf     ridge     naive  boosting  adaboost\n",
       "binaire  0.871795  0.846154  0.820513  0.820513  0.910256  0.807692  0.833333\n",
       "count    0.884615  0.858974  0.807692  0.858974  0.884615  0.807692  0.833333\n",
       "tfidf    0.897436  0.871795  0.846154  0.884615  0.910256  0.807692  0.833333"
      ]
     },
     "execution_count": 137,
     "metadata": {
      "tags": []
     },
     "output_type": "execute_result"
    }
   ],
   "source": [
    "resultat = [resultat_binaire,resultat_count,resultat_tfidf]\n",
    "pd.DataFrame(resultat,index=['binaire','count','tfidf'])"
   ]
  },
  {
   "cell_type": "markdown",
   "metadata": {
    "colab_type": "text",
    "id": "IWIcgUA0u4IG"
   },
   "source": [
    "## **Apprentissage du meilleur modèle sur l'ensemble du jeu de données et enregistrement en pickle**"
   ]
  },
  {
   "cell_type": "code",
   "execution_count": 138,
   "metadata": {
    "colab": {
     "base_uri": "https://localhost:8080/",
     "height": 74
    },
    "colab_type": "code",
    "executionInfo": {
     "elapsed": 966,
     "status": "ok",
     "timestamp": 1580134141228,
     "user": {
      "displayName": "Makk Claire",
      "photoUrl": "https://lh3.googleusercontent.com/a-/AAuE7mBu1ZMQH3mpVpSuIuyc2aP_rat1JyDOTBBHgaS0uw=s64",
      "userId": "01263964114703492317"
     },
     "user_tz": -60
    },
    "id": "OpbYwa_BvXjC",
    "outputId": "98743d54-2de4-4477-fae1-ecf8434ceafb"
   },
   "outputs": [
    {
     "name": "stderr",
     "output_type": "stream",
     "text": [
      "/usr/local/lib/python3.6/dist-packages/sklearn/feature_extraction/text.py:385: UserWarning: Your stop_words may be inconsistent with your preprocessing. Tokenizing the stop words generated tokens ['etaient', 'etais', 'etait', 'etant', 'etante', 'etantes', 'etants', 'ete', 'etee', 'etees', 'etes', 'etiez', 'etions', 'etre', 'eumes', 'eutes', 'fumes', 'futes', 'meme'] not in stop_words.\n",
      "  'stop_words.' % sorted(inconsistent))\n"
     ]
    }
   ],
   "source": [
    "vectorizer1 = TfidfVectorizer(lowercase=True,\n",
    "                             stop_words=sw,\n",
    "                             strip_accents='unicode',\n",
    "                             max_df=0.5).fit(collection1)\n",
    "collection_vectorized_tfidf = vectorizer1.transform(collection1)\n",
    "classifieur1 = MultinomialNB().fit(collection_vectorized_tfidf, themes1)"
   ]
  },
  {
   "cell_type": "code",
   "execution_count": 139,
   "metadata": {
    "colab": {
     "base_uri": "https://localhost:8080/",
     "height": 35
    },
    "colab_type": "code",
    "executionInfo": {
     "elapsed": 1225,
     "status": "ok",
     "timestamp": 1580134145337,
     "user": {
      "displayName": "Makk Claire",
      "photoUrl": "https://lh3.googleusercontent.com/a-/AAuE7mBu1ZMQH3mpVpSuIuyc2aP_rat1JyDOTBBHgaS0uw=s64",
      "userId": "01263964114703492317"
     },
     "user_tz": -60
    },
    "id": "rMy3xHilR2t5",
    "outputId": "bea11118-eeb9-44cf-bc0d-d8957f69dd8d"
   },
   "outputs": [
    {
     "data": {
      "text/plain": [
       "['Data/classifieur1.pkl']"
      ]
     },
     "execution_count": 139,
     "metadata": {
      "tags": []
     },
     "output_type": "execute_result"
    }
   ],
   "source": [
    "joblib.dump(classifieur1, '../Data/classifieur1.pkl')\n",
    "joblib.dump(vectorizer1, '../Data/vectoriseur1.pkl')"
   ]
  }
 ],
 "metadata": {
  "accelerator": "GPU",
  "colab": {
   "collapsed_sections": [],
   "name": "Classifieur_General.ipynb",
   "provenance": []
  },
  "kernelspec": {
   "display_name": "Python 3",
   "language": "python",
   "name": "python3"
  },
  "language_info": {
   "codemirror_mode": {
    "name": "ipython",
    "version": 3
   },
   "file_extension": ".py",
   "mimetype": "text/x-python",
   "name": "python",
   "nbconvert_exporter": "python",
   "pygments_lexer": "ipython3",
   "version": "3.7.3"
  }
 },
 "nbformat": 4,
 "nbformat_minor": 1
}
