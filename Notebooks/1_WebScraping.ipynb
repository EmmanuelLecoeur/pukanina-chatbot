{
 "cells": [
  {
   "cell_type": "code",
   "execution_count": 1,
   "metadata": {
    "colab": {},
    "colab_type": "code",
    "id": "cptssAPViVu_"
   },
   "outputs": [],
   "source": [
    "import requests\n",
    "from bs4 import BeautifulSoup\n",
    "import pandas as pd\n",
    "from loky import ProcessPoolExecutor\n",
    "from itertools import chain"
   ]
  },
  {
   "cell_type": "markdown",
   "metadata": {},
   "source": [
    "# Sur le site `pukanina.com`"
   ]
  },
  {
   "cell_type": "code",
   "execution_count": 2,
   "metadata": {},
   "outputs": [],
   "source": [
    "response = requests.get(\"https://www.pukanina.com/faq-foire-aux-questions-infos-pratiques/\")\n",
    "QandA = BeautifulSoup(response.text).select(\".et_pb_toggle\")\n",
    "\n",
    "questions = [elem.h5.text for elem in QandA]\n",
    "answers = [elem.div.text[1:] for elem in QandA]"
   ]
  },
  {
   "cell_type": "markdown",
   "metadata": {},
   "source": [
    "# Sur le site `perou.org`"
   ]
  },
  {
   "cell_type": "code",
   "execution_count": 3,
   "metadata": {},
   "outputs": [],
   "source": [
    "def webscraper_decouvrir_le_perou(url):\n",
    "    response = requests.get(url)\n",
    "    BS1 = (BeautifulSoup(response.text)\n",
    "          .select(\"body > h3\"))\n",
    "    BS2 = (BeautifulSoup(response.text)\n",
    "          .select(\"body > blockquote\"))\n",
    "    n = len(BS1)\n",
    "    \n",
    "    return [(BS1[i].text,BS2[i].text) for i in range(n)]\n",
    "\n",
    "def all_id_title(key):\n",
    "    with ProcessPoolExecutor() as epool:\n",
    "        mapped_values = epool.map(webscraper_decouvrir_le_perou, key)\n",
    "    return list(chain(*mapped_values))\n",
    "\n",
    "liste_url = [\"https://perou.org/faq/trip.php\",\n",
    "             \"https://perou.org/faq/health.php\",\n",
    "             \"https://perou.org/faq/transports.php\",\n",
    "             \"https://perou.org/faq/security.php\",\n",
    "             \"https://perou.org/faq/live_peru.php\"]"
   ]
  },
  {
   "cell_type": "code",
   "execution_count": 4,
   "metadata": {},
   "outputs": [
    {
     "name": "stdout",
     "output_type": "stream",
     "text": [
      "Wall time: 2.38 s\n"
     ]
    }
   ],
   "source": [
    "%%time\n",
    "QandA = all_id_title(liste_url)"
   ]
  },
  {
   "cell_type": "code",
   "execution_count": 5,
   "metadata": {},
   "outputs": [],
   "source": [
    "for q,a in QandA:\n",
    "    questions.append(q.replace(\" \\r\\n \",\"\"))\n",
    "    answers.append(a.replace('(adsbygoogle = window.adsbygoogle || []).push({});',\"\").replace(\"\\r\\n\",\"\").strip())"
   ]
  },
  {
   "cell_type": "code",
   "execution_count": 6,
   "metadata": {},
   "outputs": [],
   "source": [
    "dico_themes = {1:\"Voyage\",\n",
    "          2:\"Administratif\",\n",
    "          3:\"Argent\",\n",
    "          4:\"Santé\",\n",
    "          5:\"Communication\",\n",
    "          6:\"Bagages\",\n",
    "          7:\"Hébergement\",\n",
    "          8:\"Transport\",\n",
    "          9:\"Trek/Visite/Guide\",\n",
    "          10:\"Vivre au Pérou\",\n",
    "          11:\"Sécurité\"}\n",
    "liste_themes = [1,1,2,1,1,9,3,9,9,1,3,2,2,11,4,4,4,4,4,4,4,4,5,5,5,5,6,6,6,6,6,3,3,3,3,3,7,7,7,8,8,8,8,8,9,9,9,9,\n",
    "                1,9,7,1,1,11,6,11,2,3,9,1,9,4,4,8,8,8,8,8,8,11,11,11,11,10,10,10,10,10]\n",
    "\n",
    "themes = [dico_themes[elem] for elem in liste_themes]"
   ]
  },
  {
   "cell_type": "code",
   "execution_count": 7,
   "metadata": {},
   "outputs": [
    {
     "data": {
      "text/html": [
       "<div>\n",
       "<style scoped>\n",
       "    .dataframe tbody tr th:only-of-type {\n",
       "        vertical-align: middle;\n",
       "    }\n",
       "\n",
       "    .dataframe tbody tr th {\n",
       "        vertical-align: top;\n",
       "    }\n",
       "\n",
       "    .dataframe thead th {\n",
       "        text-align: right;\n",
       "    }\n",
       "</style>\n",
       "<table border=\"1\" class=\"dataframe\">\n",
       "  <thead>\n",
       "    <tr style=\"text-align: right;\">\n",
       "      <th></th>\n",
       "      <th>Themes</th>\n",
       "      <th>Questions</th>\n",
       "      <th>Answers</th>\n",
       "    </tr>\n",
       "  </thead>\n",
       "  <tbody>\n",
       "    <tr>\n",
       "      <th>0</th>\n",
       "      <td>Voyage</td>\n",
       "      <td>Pour et contre d'un voyage groupé en tout peti...</td>\n",
       "      <td>Nous programmons des voyages groupés à dates f...</td>\n",
       "    </tr>\n",
       "    <tr>\n",
       "      <th>1</th>\n",
       "      <td>Voyage</td>\n",
       "      <td>Pour et contre d'un voyage sur mesure/individu...</td>\n",
       "      <td>Avantages:\\n\\nun circuit individuel est modifi...</td>\n",
       "    </tr>\n",
       "    <tr>\n",
       "      <th>2</th>\n",
       "      <td>Administratif</td>\n",
       "      <td>Pourquoi vous n'incluez pas les commissions ba...</td>\n",
       "      <td>Nous n’incluons pas les commissions bancaires ...</td>\n",
       "    </tr>\n",
       "  </tbody>\n",
       "</table>\n",
       "</div>"
      ],
      "text/plain": [
       "          Themes                                          Questions  \\\n",
       "0         Voyage  Pour et contre d'un voyage groupé en tout peti...   \n",
       "1         Voyage  Pour et contre d'un voyage sur mesure/individu...   \n",
       "2  Administratif  Pourquoi vous n'incluez pas les commissions ba...   \n",
       "\n",
       "                                             Answers  \n",
       "0  Nous programmons des voyages groupés à dates f...  \n",
       "1  Avantages:\\n\\nun circuit individuel est modifi...  \n",
       "2  Nous n’incluons pas les commissions bancaires ...  "
      ]
     },
     "execution_count": 7,
     "metadata": {},
     "output_type": "execute_result"
    }
   ],
   "source": [
    "df = pd.DataFrame(data = {'Themes':themes,'Questions': questions, 'Answers': answers})\n",
    "df.head(3)"
   ]
  },
  {
   "cell_type": "code",
   "execution_count": 8,
   "metadata": {},
   "outputs": [
    {
     "data": {
      "text/html": [
       "<div>\n",
       "<style scoped>\n",
       "    .dataframe tbody tr th:only-of-type {\n",
       "        vertical-align: middle;\n",
       "    }\n",
       "\n",
       "    .dataframe tbody tr th {\n",
       "        vertical-align: top;\n",
       "    }\n",
       "\n",
       "    .dataframe thead th {\n",
       "        text-align: right;\n",
       "    }\n",
       "</style>\n",
       "<table border=\"1\" class=\"dataframe\">\n",
       "  <thead>\n",
       "    <tr style=\"text-align: right;\">\n",
       "      <th></th>\n",
       "      <th>Themes</th>\n",
       "      <th>Questions</th>\n",
       "      <th>Answers</th>\n",
       "    </tr>\n",
       "  </thead>\n",
       "  <tbody>\n",
       "    <tr>\n",
       "      <th>73</th>\n",
       "      <td>Vivre au Pérou</td>\n",
       "      <td>Je voudrais vivre au Pérou et/ou trouver du t...</td>\n",
       "      <td>Si vous cherchez un travail temporaire, sans p...</td>\n",
       "    </tr>\n",
       "    <tr>\n",
       "      <th>74</th>\n",
       "      <td>Vivre au Pérou</td>\n",
       "      <td>Où apprendre l'espagnol ?</td>\n",
       "      <td>Le meilleur moyen d'apprendre l'espagnol est, ...</td>\n",
       "    </tr>\n",
       "    <tr>\n",
       "      <th>75</th>\n",
       "      <td>Vivre au Pérou</td>\n",
       "      <td>Comment sont vus les Français au quotidien ?</td>\n",
       "      <td>Les Français sont généralement très bien vus a...</td>\n",
       "    </tr>\n",
       "    <tr>\n",
       "      <th>76</th>\n",
       "      <td>Vivre au Pérou</td>\n",
       "      <td>Quels sont les salaires pratiqués au Pérou ?</td>\n",
       "      <td>Le salaire de base, perçu par la majorité des ...</td>\n",
       "    </tr>\n",
       "    <tr>\n",
       "      <th>77</th>\n",
       "      <td>Vivre au Pérou</td>\n",
       "      <td>Où se loger à Lima et à combien ?</td>\n",
       "      <td>Le Pérou est un pays pauvre et a donc forcémen...</td>\n",
       "    </tr>\n",
       "  </tbody>\n",
       "</table>\n",
       "</div>"
      ],
      "text/plain": [
       "            Themes                                          Questions  \\\n",
       "73  Vivre au Pérou   Je voudrais vivre au Pérou et/ou trouver du t...   \n",
       "74  Vivre au Pérou                          Où apprendre l'espagnol ?   \n",
       "75  Vivre au Pérou       Comment sont vus les Français au quotidien ?   \n",
       "76  Vivre au Pérou       Quels sont les salaires pratiqués au Pérou ?   \n",
       "77  Vivre au Pérou                  Où se loger à Lima et à combien ?   \n",
       "\n",
       "                                              Answers  \n",
       "73  Si vous cherchez un travail temporaire, sans p...  \n",
       "74  Le meilleur moyen d'apprendre l'espagnol est, ...  \n",
       "75  Les Français sont généralement très bien vus a...  \n",
       "76  Le salaire de base, perçu par la majorité des ...  \n",
       "77  Le Pérou est un pays pauvre et a donc forcémen...  "
      ]
     },
     "execution_count": 8,
     "metadata": {},
     "output_type": "execute_result"
    }
   ],
   "source": [
    "df.tail()"
   ]
  },
  {
   "cell_type": "code",
   "execution_count": 9,
   "metadata": {},
   "outputs": [],
   "source": [
    "df.to_csv('../Data/Q&A.csv', sep = ';', index = False, encoding = 'utf-8', na_rep = 'NA')"
   ]
  },
  {
   "cell_type": "code",
   "execution_count": null,
   "metadata": {},
   "outputs": [],
   "source": []
  }
 ],
 "metadata": {
  "accelerator": "GPU",
  "colab": {
   "name": "1_WebScraping.ipynb",
   "provenance": []
  },
  "kernelspec": {
   "display_name": "Python 3",
   "language": "python",
   "name": "python3"
  },
  "language_info": {
   "codemirror_mode": {
    "name": "ipython",
    "version": 3
   },
   "file_extension": ".py",
   "mimetype": "text/x-python",
   "name": "python",
   "nbconvert_exporter": "python",
   "pygments_lexer": "ipython3",
   "version": "3.7.3"
  }
 },
 "nbformat": 4,
 "nbformat_minor": 1
}
