{
 "cells": [
  {
   "cell_type": "code",
   "execution_count": 1,
   "metadata": {
    "colab": {},
    "colab_type": "code",
    "id": "cptssAPViVu_"
   },
   "outputs": [],
   "source": [
    "import requests\n",
    "from bs4 import BeautifulSoup\n",
    "import pandas as pd\n",
    "from loky import ProcessPoolExecutor\n",
    "from itertools import chain\n",
    "import numpy as np"
   ]
  },
  {
   "cell_type": "markdown",
   "metadata": {},
   "source": [
    "# Sur le site `pukanina.com`"
   ]
  },
  {
   "cell_type": "code",
   "execution_count": 2,
   "metadata": {},
   "outputs": [],
   "source": [
    "response = requests.get(\"https://www.pukanina.com/faq-foire-aux-questions-infos-pratiques/\")\n",
    "QandA = BeautifulSoup(response.text).select(\".et_pb_toggle\")\n",
    "\n",
    "questions = [elem.h5.text for elem in QandA]\n",
    "answers = [elem.div.text[1:] for elem in QandA]"
   ]
  },
  {
   "cell_type": "markdown",
   "metadata": {},
   "source": [
    "# Sur le site `perou.org`"
   ]
  },
  {
   "cell_type": "code",
   "execution_count": 3,
   "metadata": {},
   "outputs": [],
   "source": [
    "def webscraper_decouvrir_le_perou(url):\n",
    "    response = requests.get(url)\n",
    "    BS1 = (BeautifulSoup(response.text)\n",
    "          .select(\"body > h3\"))\n",
    "    BS2 = (BeautifulSoup(response.text)\n",
    "          .select(\"body > blockquote\"))\n",
    "    n = len(BS1)\n",
    "    \n",
    "    return [(BS1[i].text,BS2[i].text) for i in range(n)]\n",
    "\n",
    "def all_id_title(key):\n",
    "    with ProcessPoolExecutor() as epool:\n",
    "        mapped_values = epool.map(webscraper_decouvrir_le_perou, key)\n",
    "    return list(chain(*mapped_values))\n",
    "\n",
    "liste_url = [\"https://perou.org/faq/trip.php\",\n",
    "             \"https://perou.org/faq/health.php\",\n",
    "             \"https://perou.org/faq/transports.php\",\n",
    "             \"https://perou.org/faq/security.php\",\n",
    "             \"https://perou.org/faq/live_peru.php\"]"
   ]
  },
  {
   "cell_type": "code",
   "execution_count": 4,
   "metadata": {},
   "outputs": [
    {
     "name": "stdout",
     "output_type": "stream",
     "text": [
      "Wall time: 2.32 s\n"
     ]
    }
   ],
   "source": [
    "%%time\n",
    "QandA = all_id_title(liste_url)"
   ]
  },
  {
   "cell_type": "code",
   "execution_count": 5,
   "metadata": {},
   "outputs": [],
   "source": [
    "for q,a in QandA:\n",
    "    questions.append(q.replace(\" \\r\\n \",\"\"))\n",
    "    answers.append(a.replace('(adsbygoogle = window.adsbygoogle || []).push({});',\"\").replace(\"\\r\\n\",\"\").strip())"
   ]
  },
  {
   "cell_type": "markdown",
   "metadata": {},
   "source": [
    "# Sur le site `perou-sur-mesure.com`"
   ]
  },
  {
   "cell_type": "code",
   "execution_count": 6,
   "metadata": {},
   "outputs": [],
   "source": [
    "response = requests.get(\"https://www.perou-sur-mesure.com/infos-pratiques#/\")\n",
    "QandA = BeautifulSoup(response.text).select(\".Faq-questions__content > div > div\")\n",
    "\n",
    "#questions = [elem.h5.text for elem in QandA]\n",
    "#answers = [elem.div.text[1:] for elem in QandA]"
   ]
  },
  {
   "cell_type": "code",
   "execution_count": 7,
   "metadata": {},
   "outputs": [],
   "source": [
    "def count_p_bet_h3(liste):\n",
    "    count = 0\n",
    "    new_liste = []\n",
    "    for elem in liste:\n",
    "        if elem==\"h3\":\n",
    "            new_liste.append(count)\n",
    "            count = 0\n",
    "        else:\n",
    "            count+=1\n",
    "    new_liste.append(count)\n",
    "    return np.cumsum(new_liste)"
   ]
  },
  {
   "cell_type": "code",
   "execution_count": 8,
   "metadata": {},
   "outputs": [],
   "source": [
    "for elem in QandA:\n",
    "    nb_of_p = count_p_bet_h3([i.name for i in elem if i.name is not None][1:])\n",
    "    questions += [i.text for i in elem.select(\"h3\")]\n",
    "    p = [i.text for i in elem.select(\"p\")]\n",
    "    answers += [\" \".join(p[nb_of_p[i]:nb_of_p[i+1]]) for i in range(len(nb_of_p)-1)]"
   ]
  },
  {
   "cell_type": "code",
   "execution_count": 9,
   "metadata": {},
   "outputs": [
    {
     "data": {
      "text/plain": [
       "106"
      ]
     },
     "execution_count": 9,
     "metadata": {},
     "output_type": "execute_result"
    }
   ],
   "source": [
    "len(answers)"
   ]
  },
  {
   "cell_type": "markdown",
   "metadata": {},
   "source": [
    "```python\n",
    "dico_themes = {1:\"Voyage\",\n",
    "          2:\"Administratif\",\n",
    "          3:\"Argent\",\n",
    "          4:\"Santé\",\n",
    "          5:\"Communication\",\n",
    "          6:\"Bagages\",\n",
    "          7:\"Hébergement\",\n",
    "          8:\"Transport\",\n",
    "          9:\"Trek/Visite/Guide\",\n",
    "          10:\"Vivre au Pérou/Culture\",\n",
    "          11:\"Sécurité\"}\n",
    "liste_themes = [1,1,2,1,1,9,3,9,9,1,3,2,2,11,4,4,4,4,4,4,4,4,5,5,5,5,6,6,6,6,6,3,3,3,3,3,7,7,7,8,8,8,8,8,9,9,9,9,\n",
    "                1,9,7,1,1,11,6,11,2,3,9,1,9,4,4,8,8,8,8,8,8,11,11,11,11,10,10,10,10,10,\n",
    "                1,1,2,2,2,2,2,2,2,3,7,7,7,8,8,8,8,5,6,4,4,11,11,3,10,10,10,10]\n",
    "\n",
    "themes = [dico_themes[elem] for elem in liste_themes]\n",
    "```"
   ]
  },
  {
   "cell_type": "code",
   "execution_count": 10,
   "metadata": {},
   "outputs": [],
   "source": [
    "dico_themes = {1:\"Voyage\",\n",
    "          2:\"Administratif/Argent\",\n",
    "          3:\"Administratif/Argent\",\n",
    "          4:\"Santé/Sécurité\",\n",
    "          5:\"Communication\",\n",
    "          6:\"Bagages\",\n",
    "          7:\"Hébergement\",\n",
    "          8:\"Transport\",\n",
    "          9:\"Trek/Visite/Guide\",\n",
    "          10:\"Vivre au Pérou/Culture\",\n",
    "          11:\"Santé/Sécurité\"}\n",
    "liste_themes = [1,1,2,1,1,9,3,9,9,1,3,2,2,11,4,4,4,4,4,4,4,4,5,5,5,5,6,6,6,6,6,3,3,3,3,3,7,7,7,8,8,8,8,8,9,9,9,9,\n",
    "                1,9,7,1,1,11,6,11,2,3,9,1,9,4,4,8,8,8,8,8,8,11,11,11,11,10,10,10,10,10,\n",
    "                1,1,2,2,2,2,2,2,2,3,7,7,7,8,8,8,8,5,6,4,4,11,11,3,10,10,10,10]\n",
    "\n",
    "themes = [dico_themes[elem] for elem in liste_themes]"
   ]
  },
  {
   "cell_type": "code",
   "execution_count": 11,
   "metadata": {},
   "outputs": [
    {
     "data": {
      "text/plain": [
       "Counter({'Voyage': 11,\n",
       "         'Administratif/Argent': 21,\n",
       "         'Trek/Visite/Guide': 10,\n",
       "         'Santé/Sécurité': 21,\n",
       "         'Communication': 5,\n",
       "         'Bagages': 7,\n",
       "         'Hébergement': 7,\n",
       "         'Transport': 15,\n",
       "         'Vivre au Pérou/Culture': 9})"
      ]
     },
     "execution_count": 11,
     "metadata": {},
     "output_type": "execute_result"
    }
   ],
   "source": [
    "from collections import Counter\n",
    "Counter(themes)"
   ]
  },
  {
   "cell_type": "code",
   "execution_count": 12,
   "metadata": {},
   "outputs": [
    {
     "data": {
      "text/html": [
       "<div>\n",
       "<style scoped>\n",
       "    .dataframe tbody tr th:only-of-type {\n",
       "        vertical-align: middle;\n",
       "    }\n",
       "\n",
       "    .dataframe tbody tr th {\n",
       "        vertical-align: top;\n",
       "    }\n",
       "\n",
       "    .dataframe thead th {\n",
       "        text-align: right;\n",
       "    }\n",
       "</style>\n",
       "<table border=\"1\" class=\"dataframe\">\n",
       "  <thead>\n",
       "    <tr style=\"text-align: right;\">\n",
       "      <th></th>\n",
       "      <th>Themes</th>\n",
       "      <th>Questions</th>\n",
       "      <th>Answers</th>\n",
       "    </tr>\n",
       "  </thead>\n",
       "  <tbody>\n",
       "    <tr>\n",
       "      <th>0</th>\n",
       "      <td>Voyage</td>\n",
       "      <td>Pour et contre d'un voyage groupé en tout peti...</td>\n",
       "      <td>Nous programmons des voyages groupés à dates f...</td>\n",
       "    </tr>\n",
       "    <tr>\n",
       "      <th>1</th>\n",
       "      <td>Voyage</td>\n",
       "      <td>Pour et contre d'un voyage sur mesure/individu...</td>\n",
       "      <td>Avantages:\\n\\nun circuit individuel est modifi...</td>\n",
       "    </tr>\n",
       "    <tr>\n",
       "      <th>2</th>\n",
       "      <td>Administratif/Argent</td>\n",
       "      <td>Pourquoi vous n'incluez pas les commissions ba...</td>\n",
       "      <td>Nous n’incluons pas les commissions bancaires ...</td>\n",
       "    </tr>\n",
       "    <tr>\n",
       "      <th>3</th>\n",
       "      <td>Voyage</td>\n",
       "      <td>Pourquoi vous limitez les voyages groupés à 6 ...</td>\n",
       "      <td>Par souci de maintenir la qualité d’un voyage ...</td>\n",
       "    </tr>\n",
       "    <tr>\n",
       "      <th>4</th>\n",
       "      <td>Voyage</td>\n",
       "      <td>Quelle est la meilleure période pour voyager ?</td>\n",
       "      <td>Nous avons dans nos latitudes en gros 2 saison...</td>\n",
       "    </tr>\n",
       "  </tbody>\n",
       "</table>\n",
       "</div>"
      ],
      "text/plain": [
       "                 Themes                                          Questions  \\\n",
       "0                Voyage  Pour et contre d'un voyage groupé en tout peti...   \n",
       "1                Voyage  Pour et contre d'un voyage sur mesure/individu...   \n",
       "2  Administratif/Argent  Pourquoi vous n'incluez pas les commissions ba...   \n",
       "3                Voyage  Pourquoi vous limitez les voyages groupés à 6 ...   \n",
       "4                Voyage     Quelle est la meilleure période pour voyager ?   \n",
       "\n",
       "                                             Answers  \n",
       "0  Nous programmons des voyages groupés à dates f...  \n",
       "1  Avantages:\\n\\nun circuit individuel est modifi...  \n",
       "2  Nous n’incluons pas les commissions bancaires ...  \n",
       "3  Par souci de maintenir la qualité d’un voyage ...  \n",
       "4  Nous avons dans nos latitudes en gros 2 saison...  "
      ]
     },
     "execution_count": 12,
     "metadata": {},
     "output_type": "execute_result"
    }
   ],
   "source": [
    "df = pd.DataFrame(data = {'Themes':themes,'Questions': questions, 'Answers': answers})\n",
    "df = df[df.Themes != 'Communication']\n",
    "df.head()"
   ]
  },
  {
   "cell_type": "code",
   "execution_count": 13,
   "metadata": {},
   "outputs": [
    {
     "data": {
      "text/html": [
       "<div>\n",
       "<style scoped>\n",
       "    .dataframe tbody tr th:only-of-type {\n",
       "        vertical-align: middle;\n",
       "    }\n",
       "\n",
       "    .dataframe tbody tr th {\n",
       "        vertical-align: top;\n",
       "    }\n",
       "\n",
       "    .dataframe thead th {\n",
       "        text-align: right;\n",
       "    }\n",
       "</style>\n",
       "<table border=\"1\" class=\"dataframe\">\n",
       "  <thead>\n",
       "    <tr style=\"text-align: right;\">\n",
       "      <th></th>\n",
       "      <th>Themes</th>\n",
       "      <th>Questions</th>\n",
       "      <th>Answers</th>\n",
       "    </tr>\n",
       "  </thead>\n",
       "  <tbody>\n",
       "    <tr>\n",
       "      <th>101</th>\n",
       "      <td>Administratif/Argent</td>\n",
       "      <td>Y a t-il des réductions pour les enfants ?</td>\n",
       "      <td>Souvent les hébergements proposent des réducti...</td>\n",
       "    </tr>\n",
       "    <tr>\n",
       "      <th>102</th>\n",
       "      <td>Vivre au Pérou/Culture</td>\n",
       "      <td>Quels types de souvenirs rapporter d’un voyage...</td>\n",
       "      <td>Pour partager avec vos proches toutes les merv...</td>\n",
       "    </tr>\n",
       "    <tr>\n",
       "      <th>103</th>\n",
       "      <td>Vivre au Pérou/Culture</td>\n",
       "      <td>Que nous réserve la cuisine péruvienne ?</td>\n",
       "      <td>La cuisine péruvienne est aussi variée que la ...</td>\n",
       "    </tr>\n",
       "    <tr>\n",
       "      <th>104</th>\n",
       "      <td>Vivre au Pérou/Culture</td>\n",
       "      <td>Lexique Espagnol</td>\n",
       "      <td>Les basiques : Oui : Sí\\nNon : No\\nBonjour, sa...</td>\n",
       "    </tr>\n",
       "    <tr>\n",
       "      <th>105</th>\n",
       "      <td>Vivre au Pérou/Culture</td>\n",
       "      <td>Lexique Quechua :</td>\n",
       "      <td>Bonjour (matin) : Allin p’unchay\\nOui : Arí\\nD...</td>\n",
       "    </tr>\n",
       "  </tbody>\n",
       "</table>\n",
       "</div>"
      ],
      "text/plain": [
       "                     Themes  \\\n",
       "101    Administratif/Argent   \n",
       "102  Vivre au Pérou/Culture   \n",
       "103  Vivre au Pérou/Culture   \n",
       "104  Vivre au Pérou/Culture   \n",
       "105  Vivre au Pérou/Culture   \n",
       "\n",
       "                                             Questions  \\\n",
       "101         Y a t-il des réductions pour les enfants ?   \n",
       "102  Quels types de souvenirs rapporter d’un voyage...   \n",
       "103           Que nous réserve la cuisine péruvienne ?   \n",
       "104                                   Lexique Espagnol   \n",
       "105                                  Lexique Quechua :   \n",
       "\n",
       "                                               Answers  \n",
       "101  Souvent les hébergements proposent des réducti...  \n",
       "102  Pour partager avec vos proches toutes les merv...  \n",
       "103  La cuisine péruvienne est aussi variée que la ...  \n",
       "104  Les basiques : Oui : Sí\\nNon : No\\nBonjour, sa...  \n",
       "105  Bonjour (matin) : Allin p’unchay\\nOui : Arí\\nD...  "
      ]
     },
     "execution_count": 13,
     "metadata": {},
     "output_type": "execute_result"
    }
   ],
   "source": [
    "df.tail()"
   ]
  },
  {
   "cell_type": "code",
   "execution_count": 14,
   "metadata": {},
   "outputs": [],
   "source": [
    "df.to_csv('../Data/Q&A.csv', sep = ';', index = False, encoding = 'utf-8', na_rep = 'NA')"
   ]
  },
  {
   "cell_type": "code",
   "execution_count": null,
   "metadata": {},
   "outputs": [],
   "source": []
  }
 ],
 "metadata": {
  "accelerator": "GPU",
  "colab": {
   "name": "1_WebScraping.ipynb",
   "provenance": []
  },
  "kernelspec": {
   "display_name": "Python 3",
   "language": "python",
   "name": "python3"
  },
  "language_info": {
   "codemirror_mode": {
    "name": "ipython",
    "version": 3
   },
   "file_extension": ".py",
   "mimetype": "text/x-python",
   "name": "python",
   "nbconvert_exporter": "python",
   "pygments_lexer": "ipython3",
   "version": "3.7.3"
  }
 },
 "nbformat": 4,
 "nbformat_minor": 1
}
