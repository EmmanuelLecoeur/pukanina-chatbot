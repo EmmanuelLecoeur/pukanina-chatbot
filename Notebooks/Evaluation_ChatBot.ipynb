{
 "cells": [
  {
   "cell_type": "markdown",
   "metadata": {
    "colab_type": "text",
    "id": "pbW1vhP1VOF5"
   },
   "source": [
    "# **Evaluation de la composante orienté objet du chatbot**"
   ]
  },
  {
   "cell_type": "markdown",
   "metadata": {
    "colab_type": "text",
    "id": "ZRVrfBEezTOn"
   },
   "source": [
    "## **Importation**"
   ]
  },
  {
   "cell_type": "code",
   "execution_count": 0,
   "metadata": {
    "colab": {},
    "colab_type": "code",
    "id": "H0bHo-_tan9U"
   },
   "outputs": [],
   "source": [
    "import pandas as pd\n",
    "import spacy\n",
    "from collections import Counter\n",
    "import numpy as np\n",
    "from sklearn.externals import joblib\n",
    "\n",
    "#Importation pré-traitement\n",
    "from nltk.tokenize.regexp import WordPunctTokenizer\n",
    "from nltk.stem import SnowballStemmer\n",
    "nlp = spacy.load('fr_core_news_md')\n",
    "\n",
    "#Importation modèles\n",
    "from sklearn.metrics import accuracy_score, confusion_matrix, precision_score, recall_score, f1_score\n",
    "from sklearn.metrics.pairwise import cosine_similarity\n",
    "\n",
    "#Importation données\n",
    "QA = pd.read_csv('../Data/Q_A.csv',sep=\";\")\n",
    "test_metier = pd.read_csv('../Data/Q_A_test.csv',sep=\";\")\n",
    "vectorizer2 = joblib.load('../Data/vectoriseur2.pkl')\n",
    "classifieur2 = joblib.load('../Data/classifieur2.pkl')\n",
    "vectorizer1 = joblib.load('../Data/vectoriseur1.pkl')\n",
    "classifieur1 = joblib.load('../Data/classifieur1.pkl')\n",
    "vectorizer_themes = joblib.load('../Data/vectorizer_themes.pkl')"
   ]
  },
  {
   "cell_type": "code",
   "execution_count": 0,
   "metadata": {
    "colab": {},
    "colab_type": "code",
    "id": "712f1735ptKx"
   },
   "outputs": [],
   "source": [
    "test_autre = ['Comment ça va ?','Ou est le cinéma le plus proche ?','Quand visiter la Tour-Eiffel ?','Comment faire une tartiflette ?',\n",
    "              'Comment soigner mes plantes ?', 'Quel est le programme télé ce soir ?', 'Manu est il beau ?', 'Quel est le numéro de Jean-Michel ?',\n",
    "              'La piscine est elle ouverte ce week end ?','Quel est la valeur arrondie de Pi?', 'Vais je devenir riche et célèbre ?',\n",
    "              'Fait t-il beau à New-York ?','Les produits laitiers sont-ils nos amis pour la vie ?','Quel est le meilleur fromage ?',\n",
    "              'Combien coûte une Clio ?', 'Quels sont les meilleurs bonbons de tous les temps?','Comment traiter les poux ?',\n",
    "              'Quelle est la date limite de rendu de projet ?','Es-tu amoureux ?','Franck Dubosc est-il drôle ?',\n",
    "              'Je souhaite construire une table.','Ou trouver des films gratuits en streaming ?']"
   ]
  },
  {
   "cell_type": "markdown",
   "metadata": {
    "colab_type": "text",
    "id": "xcnu3JNfzW3k"
   },
   "source": [
    "## **Définitions des fonctions de normalisation**"
   ]
  },
  {
   "cell_type": "code",
   "execution_count": 0,
   "metadata": {
    "colab": {},
    "colab_type": "code",
    "id": "hgm5tU3uc6Bn"
   },
   "outputs": [],
   "source": [
    "#Définition des fonctions de prétraitement du texte\n",
    "def lemmatise_text(text):\n",
    "  tw_nlp = nlp(text)\n",
    "  list_lem = [token.lemma_ for token in tw_nlp]\n",
    "  text_lem = ' '.join(list_lem)\n",
    "  return text_lem\n",
    "\n",
    "def stem_text(text):\n",
    "  tokenizer = WordPunctTokenizer()\n",
    "  stemmer = SnowballStemmer('french')\n",
    "  liste_racines = [stemmer.stem(token) for token in tokenizer.tokenize(text)]\n",
    "  return ' '.join(liste_racines)\n",
    "\n",
    "def normalise(text):\n",
    "  #stop words, strip accent et lowercase vont être fait automatiquement\n",
    "  text = text.replace('\\n','').replace('\\r','').split(\" \")\n",
    "  text = \" \".join([i for i in text if i!=\"\"])\n",
    "  lemmas = lemmatise_text(text) #lemme de notre texte\n",
    "  stems = stem_text(lemmas) #stem de notre texte A VOIR\n",
    "  return stems"
   ]
  },
  {
   "cell_type": "markdown",
   "metadata": {
    "colab_type": "text",
    "id": "lgA_DqhTtbqX"
   },
   "source": [
    "## **Evaluation du classifieur n°1 : pertinence générale**"
   ]
  },
  {
   "cell_type": "code",
   "execution_count": 7,
   "metadata": {
    "colab": {
     "base_uri": "https://localhost:8080/",
     "height": 186
    },
    "colab_type": "code",
    "executionInfo": {
     "elapsed": 1205,
     "status": "ok",
     "timestamp": 1580313511365,
     "user": {
      "displayName": "Makk Claire",
      "photoUrl": "https://lh3.googleusercontent.com/a-/AAuE7mBu1ZMQH3mpVpSuIuyc2aP_rat1JyDOTBBHgaS0uw=s64",
      "userId": "01263964114703492317"
     },
     "user_tz": -60
    },
    "id": "Z_Gas0xktgJH",
    "outputId": "57ebd757-d07a-4d21-cba5-d17481b8b124"
   },
   "outputs": [
    {
     "name": "stdout",
     "output_type": "stream",
     "text": [
      "Accuracy : 0.6136363636363636 \n",
      "Precision : 0.5641025641025641 \n",
      "Recall : 1.0 \n",
      "F1 Score : 0.7213114754098361\n"
     ]
    },
    {
     "data": {
      "text/html": [
       "<div>\n",
       "<style scoped>\n",
       "    .dataframe tbody tr th:only-of-type {\n",
       "        vertical-align: middle;\n",
       "    }\n",
       "\n",
       "    .dataframe tbody tr th {\n",
       "        vertical-align: top;\n",
       "    }\n",
       "\n",
       "    .dataframe thead th {\n",
       "        text-align: right;\n",
       "    }\n",
       "</style>\n",
       "<table border=\"1\" class=\"dataframe\">\n",
       "  <thead>\n",
       "    <tr style=\"text-align: right;\">\n",
       "      <th></th>\n",
       "      <th>autres</th>\n",
       "      <th>metier</th>\n",
       "    </tr>\n",
       "  </thead>\n",
       "  <tbody>\n",
       "    <tr>\n",
       "      <th>autres</th>\n",
       "      <td>5</td>\n",
       "      <td>17</td>\n",
       "    </tr>\n",
       "    <tr>\n",
       "      <th>metier</th>\n",
       "      <td>0</td>\n",
       "      <td>22</td>\n",
       "    </tr>\n",
       "  </tbody>\n",
       "</table>\n",
       "</div>"
      ],
      "text/plain": [
       "        autres  metier\n",
       "autres       5      17\n",
       "metier       0      22"
      ]
     },
     "execution_count": 7,
     "metadata": {
      "tags": []
     },
     "output_type": "execute_result"
    }
   ],
   "source": [
    "corpus_test = list(test_metier.Questions[:22]) + test_autre\n",
    "themes_test = ['metier']*22 + ['autres']*22\n",
    "corpus_norm = pd.Series(corpus_test).apply(normalise)\n",
    "corpus_vect = vectorizer1.transform(corpus_norm)\n",
    "themes_pred = classifieur1.predict(corpus_vect)\n",
    "themes_test_bin = [1 if t=='metier' else 0 for t in themes_test]\n",
    "themes_pred_bin = [1 if t=='metier' else 0 for t in themes_pred]\n",
    "print(\"Accuracy : {} \\nPrecision : {} \\nRecall : {} \\nF1 Score : {}\".format(accuracy_score(themes_test, themes_pred),\n",
    "                                                                            precision_score(themes_test_bin, themes_pred_bin),\n",
    "                                                                            recall_score(themes_test_bin, themes_pred_bin),\n",
    "                                                                            f1_score(themes_test_bin, themes_pred_bin)))\n",
    "Counter(themes_pred),Counter(themes_test)\n",
    "pd.DataFrame(confusion_matrix(themes_test,themes_pred),index=['autres','metier'],columns=['autres','metier'])"
   ]
  },
  {
   "cell_type": "markdown",
   "metadata": {
    "colab_type": "text",
    "id": "LBYNT4LIcJ3Y"
   },
   "source": [
    "## **Evaluation du classifieur n°2 : thématique**"
   ]
  },
  {
   "cell_type": "code",
   "execution_count": 10,
   "metadata": {
    "colab": {
     "base_uri": "https://localhost:8080/",
     "height": 319
    },
    "colab_type": "code",
    "executionInfo": {
     "elapsed": 1797,
     "status": "ok",
     "timestamp": 1580313526020,
     "user": {
      "displayName": "Makk Claire",
      "photoUrl": "https://lh3.googleusercontent.com/a-/AAuE7mBu1ZMQH3mpVpSuIuyc2aP_rat1JyDOTBBHgaS0uw=s64",
      "userId": "01263964114703492317"
     },
     "user_tz": -60
    },
    "id": "xpsI7hwrbvM3",
    "outputId": "e75d02ad-b39e-4efb-b133-580285c6ea15"
   },
   "outputs": [
    {
     "name": "stdout",
     "output_type": "stream",
     "text": [
      "Accuracy :0.8775510204081632\n"
     ]
    },
    {
     "data": {
      "text/html": [
       "<div>\n",
       "<style scoped>\n",
       "    .dataframe tbody tr th:only-of-type {\n",
       "        vertical-align: middle;\n",
       "    }\n",
       "\n",
       "    .dataframe tbody tr th {\n",
       "        vertical-align: top;\n",
       "    }\n",
       "\n",
       "    .dataframe thead th {\n",
       "        text-align: right;\n",
       "    }\n",
       "</style>\n",
       "<table border=\"1\" class=\"dataframe\">\n",
       "  <thead>\n",
       "    <tr style=\"text-align: right;\">\n",
       "      <th></th>\n",
       "      <th>Administratif/Argent</th>\n",
       "      <th>Bagages</th>\n",
       "      <th>Hébergement</th>\n",
       "      <th>Santé/Sécurité</th>\n",
       "      <th>Transport</th>\n",
       "      <th>Trek/Visite/Guide</th>\n",
       "      <th>Vivre au Pérou/Culture</th>\n",
       "      <th>Voyage</th>\n",
       "    </tr>\n",
       "  </thead>\n",
       "  <tbody>\n",
       "    <tr>\n",
       "      <th>Administratif/Argent</th>\n",
       "      <td>18</td>\n",
       "      <td>0</td>\n",
       "      <td>0</td>\n",
       "      <td>1</td>\n",
       "      <td>0</td>\n",
       "      <td>0</td>\n",
       "      <td>0</td>\n",
       "      <td>1</td>\n",
       "    </tr>\n",
       "    <tr>\n",
       "      <th>Bagages</th>\n",
       "      <td>0</td>\n",
       "      <td>6</td>\n",
       "      <td>0</td>\n",
       "      <td>0</td>\n",
       "      <td>0</td>\n",
       "      <td>0</td>\n",
       "      <td>0</td>\n",
       "      <td>1</td>\n",
       "    </tr>\n",
       "    <tr>\n",
       "      <th>Hébergement</th>\n",
       "      <td>0</td>\n",
       "      <td>0</td>\n",
       "      <td>7</td>\n",
       "      <td>0</td>\n",
       "      <td>0</td>\n",
       "      <td>0</td>\n",
       "      <td>0</td>\n",
       "      <td>0</td>\n",
       "    </tr>\n",
       "    <tr>\n",
       "      <th>Santé/Sécurité</th>\n",
       "      <td>0</td>\n",
       "      <td>0</td>\n",
       "      <td>0</td>\n",
       "      <td>19</td>\n",
       "      <td>1</td>\n",
       "      <td>0</td>\n",
       "      <td>1</td>\n",
       "      <td>0</td>\n",
       "    </tr>\n",
       "    <tr>\n",
       "      <th>Transport</th>\n",
       "      <td>0</td>\n",
       "      <td>0</td>\n",
       "      <td>0</td>\n",
       "      <td>0</td>\n",
       "      <td>15</td>\n",
       "      <td>0</td>\n",
       "      <td>0</td>\n",
       "      <td>0</td>\n",
       "    </tr>\n",
       "    <tr>\n",
       "      <th>Trek/Visite/Guide</th>\n",
       "      <td>1</td>\n",
       "      <td>0</td>\n",
       "      <td>0</td>\n",
       "      <td>0</td>\n",
       "      <td>2</td>\n",
       "      <td>6</td>\n",
       "      <td>0</td>\n",
       "      <td>0</td>\n",
       "    </tr>\n",
       "    <tr>\n",
       "      <th>Vivre au Pérou/Culture</th>\n",
       "      <td>0</td>\n",
       "      <td>0</td>\n",
       "      <td>0</td>\n",
       "      <td>1</td>\n",
       "      <td>0</td>\n",
       "      <td>0</td>\n",
       "      <td>7</td>\n",
       "      <td>0</td>\n",
       "    </tr>\n",
       "    <tr>\n",
       "      <th>Voyage</th>\n",
       "      <td>0</td>\n",
       "      <td>0</td>\n",
       "      <td>1</td>\n",
       "      <td>2</td>\n",
       "      <td>0</td>\n",
       "      <td>0</td>\n",
       "      <td>0</td>\n",
       "      <td>8</td>\n",
       "    </tr>\n",
       "  </tbody>\n",
       "</table>\n",
       "</div>"
      ],
      "text/plain": [
       "                        Administratif/Argent  ...  Voyage\n",
       "Administratif/Argent                      18  ...       1\n",
       "Bagages                                    0  ...       1\n",
       "Hébergement                                0  ...       0\n",
       "Santé/Sécurité                             0  ...       0\n",
       "Transport                                  0  ...       0\n",
       "Trek/Visite/Guide                          1  ...       0\n",
       "Vivre au Pérou/Culture                     0  ...       0\n",
       "Voyage                                     0  ...       8\n",
       "\n",
       "[8 rows x 8 columns]"
      ]
     },
     "execution_count": 10,
     "metadata": {
      "tags": []
     },
     "output_type": "execute_result"
    }
   ],
   "source": [
    "corpus_test = test_metier.Questions\n",
    "themes_test = test_metier.Themes\n",
    "corpus_norm = pd.Series(corpus_test).apply(normalise)\n",
    "corpus_vect = vectorizer2.transform(corpus_norm)\n",
    "themes_pred = classifieur2.predict(corpus_vect)\n",
    "print(\"Accuracy :{}\".format(accuracy_score(themes_test, themes_pred)))\n",
    "Counter(themes_test)\n",
    "Counter(themes_pred)\n",
    "themes = ['Administratif/Argent','Bagages','Hébergement','Santé/Sécurité',\n",
    "          'Transport','Trek/Visite/Guide','Vivre au Pérou/Culture','Voyage']\n",
    "pd.DataFrame(confusion_matrix(themes_test, themes_pred),index=themes,columns=themes)"
   ]
  },
  {
   "cell_type": "markdown",
   "metadata": {
    "colab_type": "text",
    "id": "wbbIXeaw30rl"
   },
   "source": [
    "## **Evaluation de la réponse du ChatBot**"
   ]
  },
  {
   "cell_type": "code",
   "execution_count": 12,
   "metadata": {
    "colab": {
     "base_uri": "https://localhost:8080/",
     "height": 35
    },
    "colab_type": "code",
    "executionInfo": {
     "elapsed": 2058,
     "status": "ok",
     "timestamp": 1580313588838,
     "user": {
      "displayName": "Makk Claire",
      "photoUrl": "https://lh3.googleusercontent.com/a-/AAuE7mBu1ZMQH3mpVpSuIuyc2aP_rat1JyDOTBBHgaS0uw=s64",
      "userId": "01263964114703492317"
     },
     "user_tz": -60
    },
    "id": "xVY8uKUNimk1",
    "outputId": "e40a8a2b-fff2-4061-9dbd-47bbd37b8bd7"
   },
   "outputs": [
    {
     "name": "stdout",
     "output_type": "stream",
     "text": [
      "Accuracy : 0.6836734693877551\n"
     ]
    }
   ],
   "source": [
    "n = len(test_metier)\n",
    "prediction_rep = [0]*n\n",
    "\n",
    "for i in range(n):\n",
    "  theme = test_metier.Themes.iloc[i]\n",
    "  user_input = test_metier.Questions.iloc[i]\n",
    "  vect, dtm, ind = vectorizer_themes[theme]\n",
    "  user_norm = pd.Series([user_input]).apply(normalise)\n",
    "  user_vector = vect.transform(user_norm)\n",
    "  query_corpus_sim = np.squeeze(cosine_similarity(dtm, user_vector))\n",
    "  idx_most_sim = np.argmax(query_corpus_sim)\n",
    "  best = ind[idx_most_sim%len(ind)]\n",
    "  prediction_rep[i] = QA.iloc[best].Answers\n",
    "\n",
    "print('Accuracy : {}'.format(accuracy_score(test_metier.Answers, prediction_rep)))"
   ]
  },
  {
   "cell_type": "code",
   "execution_count": 0,
   "metadata": {
    "colab": {},
    "colab_type": "code",
    "id": "fxYgsr4FAOCk"
   },
   "outputs": [],
   "source": []
  }
 ],
 "metadata": {
  "colab": {
   "authorship_tag": "ABX9TyNt+rho95ifLG/SZmrFYsal",
   "collapsed_sections": [],
   "name": "Evaluation du chatbot.ipynb",
   "provenance": []
  },
  "kernelspec": {
   "display_name": "Python 3",
   "language": "python",
   "name": "python3"
  },
  "language_info": {
   "codemirror_mode": {
    "name": "ipython",
    "version": 3
   },
   "file_extension": ".py",
   "mimetype": "text/x-python",
   "name": "python",
   "nbconvert_exporter": "python",
   "pygments_lexer": "ipython3",
   "version": "3.7.3"
  }
 },
 "nbformat": 4,
 "nbformat_minor": 1
}
