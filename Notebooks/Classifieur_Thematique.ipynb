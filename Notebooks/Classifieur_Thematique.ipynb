{
 "cells": [
  {
   "cell_type": "markdown",
   "metadata": {
    "colab_type": "text",
    "id": "nms8iR0wr-H3"
   },
   "source": [
    "# **Classifieur n°2 : pertinence de thème**"
   ]
  },
  {
   "cell_type": "markdown",
   "metadata": {
    "colab_type": "text",
    "id": "5zM9GYn8f7ZR"
   },
   "source": [
    "## **Importation**"
   ]
  },
  {
   "cell_type": "code",
   "execution_count": 3,
   "metadata": {
    "colab": {
     "base_uri": "https://localhost:8080/",
     "height": 54
    },
    "colab_type": "code",
    "executionInfo": {
     "elapsed": 859,
     "status": "ok",
     "timestamp": 1580220788063,
     "user": {
      "displayName": "Makk Claire",
      "photoUrl": "https://lh3.googleusercontent.com/a-/AAuE7mBu1ZMQH3mpVpSuIuyc2aP_rat1JyDOTBBHgaS0uw=s64",
      "userId": "01263964114703492317"
     },
     "user_tz": -60
    },
    "id": "9yyMv38ifxUK",
    "outputId": "1ba3ad1c-2632-41a5-9b2f-dbf9a550dd7a"
   },
   "outputs": [
    {
     "name": "stdout",
     "output_type": "stream",
     "text": [
      "Drive already mounted at /gdrive; to attempt to forcibly remount, call drive.mount(\"/gdrive\", force_remount=True).\n",
      "/gdrive/My Drive/text_mining/Notebooks\n"
     ]
    }
   ],
   "source": [
    "#!pip install -U spacy\n",
    "#!python -m spacy download fr_core_news_md"
   ]
  },
  {
   "cell_type": "code",
   "execution_count": 40,
   "metadata": {
    "colab": {
     "base_uri": "https://localhost:8080/",
     "height": 54
    },
    "colab_type": "code",
    "executionInfo": {
     "elapsed": 21560,
     "status": "ok",
     "timestamp": 1580221077171,
     "user": {
      "displayName": "Makk Claire",
      "photoUrl": "https://lh3.googleusercontent.com/a-/AAuE7mBu1ZMQH3mpVpSuIuyc2aP_rat1JyDOTBBHgaS0uw=s64",
      "userId": "01263964114703492317"
     },
     "user_tz": -60
    },
    "id": "l43hF5Fhf5rf",
    "outputId": "b426b0c3-b100-42c1-e4a3-5ec346b2a16c"
   },
   "outputs": [
    {
     "name": "stdout",
     "output_type": "stream",
     "text": [
      "[nltk_data] Downloading package stopwords to /root/nltk_data...\n",
      "[nltk_data]   Package stopwords is already up-to-date!\n"
     ]
    }
   ],
   "source": [
    "import pandas as pd\n",
    "import spacy\n",
    "from collections import defaultdict, Counter\n",
    "import numpy as np\n",
    "from sklearn.externals import joblib\n",
    "\n",
    "#Importation pré-traitement\n",
    "import nltk\n",
    "from nltk.tokenize.regexp import WordPunctTokenizer\n",
    "from nltk.stem import SnowballStemmer\n",
    "from nltk.corpus import stopwords\n",
    "from sklearn.feature_extraction.text import TfidfVectorizer\n",
    "from sklearn.feature_extraction.text import CountVectorizer\n",
    "import unicodedata\n",
    "nlp = spacy.load('fr_core_news_md')\n",
    "\n",
    "#Strop words\n",
    "def strip_accents(texte):\n",
    "  return(unicodedata.normalize('NFKD', texte).encode('ASCII', 'ignore').decode('ASCII'))\n",
    "nltk.download('stopwords')\n",
    "sw=stopwords.words(\"french\")\n",
    "sw += ['être','avoir','comment']\n",
    "sw= [strip_accents(w) for w in sw]\n",
    "\n",
    "#Importation modèles\n",
    "from sklearn.model_selection import train_test_split\n",
    "from sklearn.metrics.cluster import contingency_matrix\n",
    "from sklearn.metrics import accuracy_score, confusion_matrix\n",
    "from sklearn import model_selection\n",
    "from sklearn.svm import SVC\n",
    "from sklearn.linear_model import LogisticRegression\n",
    "from sklearn.ensemble import RandomForestClassifier\n",
    "from sklearn.linear_model import RidgeClassifier\n",
    "from sklearn.naive_bayes import MultinomialNB\n",
    "from sklearn.ensemble import AdaBoostClassifier\n",
    "from sklearn.ensemble import GradientBoostingClassifier\n",
    "\n",
    "#Importation données\n",
    "QA = pd.read_csv('../Data/Q_A.csv',sep=\";\")"
   ]
  },
  {
   "cell_type": "markdown",
   "metadata": {
    "colab_type": "text",
    "id": "D7lIU4_yoxuB"
   },
   "source": [
    "## **Pré-traitements**"
   ]
  },
  {
   "cell_type": "code",
   "execution_count": 0,
   "metadata": {
    "colab": {},
    "colab_type": "code",
    "id": "uiurNALvfOvL"
   },
   "outputs": [],
   "source": [
    "#Définition des fonctions de prétraitement du texte\n",
    "def lemmatise_text(text):\n",
    "  tw_nlp = nlp(text)\n",
    "  list_lem = [token.lemma_ for token in tw_nlp]\n",
    "  text_lem = ' '.join(list_lem)\n",
    "  return text_lem\n",
    "\n",
    "def stem_text(text):\n",
    "  tokenizer = WordPunctTokenizer()\n",
    "  stemmer = SnowballStemmer('french')\n",
    "  liste_racines = [stemmer.stem(token) for token in tokenizer.tokenize(text)]\n",
    "  return ' '.join(liste_racines)\n",
    "\n",
    "def normalise(text):\n",
    "  #stop words, strip accent et lowercase vont être fait automatiquement\n",
    "  text = text.replace('\\n','').replace('\\r','').split(\" \")\n",
    "  text = \" \".join([i for i in text if i!=\"\"])\n",
    "  lemmas = lemmatise_text(text) #lemme de notre texte\n",
    "  stems = stem_text(lemmas) #stem de notre texte A VOIR\n",
    "  return stems"
   ]
  },
  {
   "cell_type": "code",
   "execution_count": 0,
   "metadata": {
    "colab": {},
    "colab_type": "code",
    "id": "Q5YmNEQMuBa-"
   },
   "outputs": [],
   "source": [
    "#Normalisation du corpus\n",
    "collection2 = pd.Series(list(QA.Answers) + list(QA.Questions))\n",
    "collection2 = collection2.apply(normalise)\n",
    "themes2 = list(QA.Themes) + list(QA.Themes)"
   ]
  },
  {
   "cell_type": "code",
   "execution_count": 0,
   "metadata": {
    "colab": {},
    "colab_type": "code",
    "id": "P-VlwEvmEmrv"
   },
   "outputs": [],
   "source": [
    "#Création train et validation\n",
    "X_train, X_valid, y_train, y_valid = train_test_split(collection2,\n",
    "                                                      themes2,\n",
    "                                                      train_size=0.75,\n",
    "                                                      random_state=5)"
   ]
  },
  {
   "cell_type": "code",
   "execution_count": 0,
   "metadata": {
    "colab": {},
    "colab_type": "code",
    "id": "Qlhxp8SRpZNM"
   },
   "outputs": [],
   "source": [
    "#Création du vectorizer bin sur X_train : BINAIRE\n",
    "vectorizer = CountVectorizer(lowercase=True,\n",
    "                             stop_words=sw,\n",
    "                             strip_accents='unicode',\n",
    "                             binary=True).fit(X_train)\n",
    "X_train_vectorized_bin = vectorizer.transform(X_train)\n",
    "X_valid_vectorized_bin = vectorizer.transform(X_valid)"
   ]
  },
  {
   "cell_type": "code",
   "execution_count": 0,
   "metadata": {
    "colab": {},
    "colab_type": "code",
    "id": "25r2gSQW1iQT"
   },
   "outputs": [],
   "source": [
    "#Création du vectorizer count sur X_train : COUNT\n",
    "vectorizer = CountVectorizer(lowercase=True,\n",
    "                             stop_words=sw,\n",
    "                             strip_accents='unicode',\n",
    "                             binary=False).fit(X_train)\n",
    "X_train_vectorized_count = vectorizer.transform(X_train)\n",
    "X_valid_vectorized_count = vectorizer.transform(X_valid)"
   ]
  },
  {
   "cell_type": "code",
   "execution_count": 0,
   "metadata": {
    "colab": {},
    "colab_type": "code",
    "id": "KaosvT0fKg1g"
   },
   "outputs": [],
   "source": [
    "#Création du vectorizer count sur X_train : TFIDF\n",
    "vectorizer = TfidfVectorizer(lowercase=True,\n",
    "                             stop_words=sw,\n",
    "                             strip_accents='unicode',\n",
    "                             max_df=0.5).fit(X_train)\n",
    "X_train_vectorized_tfidf = vectorizer.transform(X_train)\n",
    "X_valid_vectorized_tfidf = vectorizer.transform(X_valid)"
   ]
  },
  {
   "cell_type": "code",
   "execution_count": 0,
   "metadata": {
    "colab": {},
    "colab_type": "code",
    "id": "Z3uASpo6qiZx"
   },
   "outputs": [],
   "source": [
    "resultat_binaire = {}\n",
    "resultat_count = {}\n",
    "resultat_tfidf = {}"
   ]
  },
  {
   "cell_type": "markdown",
   "metadata": {
    "colab_type": "text",
    "id": "oQ_rvswfJN_u"
   },
   "source": [
    "## **SVM**\n",
    "\n",
    "**Vectorizer binaire**"
   ]
  },
  {
   "cell_type": "code",
   "execution_count": 0,
   "metadata": {
    "colab": {},
    "colab_type": "code",
    "id": "FAgQ2hkBhR4G"
   },
   "outputs": [],
   "source": [
    "param_grid = {'C': np.arange(0.1,10,0.1),'gamma':np.arange(0.009,1,0.1)} \n",
    "mvs = SVC(kernel = 'rbf')\n",
    "grid = model_selection.GridSearchCV(estimator=mvs,param_grid=param_grid,cv = 4, scoring='accuracy', n_jobs = -1)"
   ]
  },
  {
   "cell_type": "code",
   "execution_count": 49,
   "metadata": {
    "colab": {
     "base_uri": "https://localhost:8080/",
     "height": 54
    },
    "colab_type": "code",
    "executionInfo": {
     "elapsed": 54874,
     "status": "ok",
     "timestamp": 1580221112899,
     "user": {
      "displayName": "Makk Claire",
      "photoUrl": "https://lh3.googleusercontent.com/a-/AAuE7mBu1ZMQH3mpVpSuIuyc2aP_rat1JyDOTBBHgaS0uw=s64",
      "userId": "01263964114703492317"
     },
     "user_tz": -60
    },
    "id": "d4uF3048IuFr",
    "outputId": "ed1003d2-61ad-41ed-ed85-f5c90ad52126"
   },
   "outputs": [
    {
     "name": "stdout",
     "output_type": "stream",
     "text": [
      "{'C': 8.6, 'gamma': 0.009} 0.35028449502133713\n",
      "0.8609271523178808 0.35294117647058826\n"
     ]
    }
   ],
   "source": [
    "grille = grid.fit(X_train_vectorized_bin, y_train)\n",
    "print(grille.best_params_,grille.best_score_)\n",
    "predictions_valid = grille.predict(X_valid_vectorized_bin)\n",
    "predictions_train = grille.predict(X_train_vectorized_bin)\n",
    "print(accuracy_score(y_train, predictions_train),accuracy_score(y_valid, predictions_valid))\n",
    "resultat_binaire['SVM']=accuracy_score(y_valid, predictions_valid)"
   ]
  },
  {
   "cell_type": "markdown",
   "metadata": {
    "colab_type": "text",
    "id": "PzYYI5iJVpwl"
   },
   "source": [
    "**Vectorizer count**"
   ]
  },
  {
   "cell_type": "code",
   "execution_count": 50,
   "metadata": {
    "colab": {
     "base_uri": "https://localhost:8080/",
     "height": 54
    },
    "colab_type": "code",
    "executionInfo": {
     "elapsed": 84290,
     "status": "ok",
     "timestamp": 1580221142586,
     "user": {
      "displayName": "Makk Claire",
      "photoUrl": "https://lh3.googleusercontent.com/a-/AAuE7mBu1ZMQH3mpVpSuIuyc2aP_rat1JyDOTBBHgaS0uw=s64",
      "userId": "01263964114703492317"
     },
     "user_tz": -60
    },
    "id": "jeoWRvCkVt4J",
    "outputId": "3a9e0040-b119-4d8f-f423-01a4ac2a0413"
   },
   "outputs": [
    {
     "name": "stdout",
     "output_type": "stream",
     "text": [
      "{'C': 8.1, 'gamma': 0.009} 0.35739687055476527\n",
      "0.847682119205298 0.39215686274509803\n"
     ]
    }
   ],
   "source": [
    "grille = grid.fit(X_train_vectorized_count, y_train)\n",
    "print(grille.best_params_,grille.best_score_)\n",
    "predictions_valid = grille.predict(X_valid_vectorized_count)\n",
    "predictions_train = grille.predict(X_train_vectorized_count)\n",
    "print(accuracy_score(y_train, predictions_train),accuracy_score(y_valid, predictions_valid))\n",
    "resultat_count['SVM']=accuracy_score(y_valid, predictions_valid)"
   ]
  },
  {
   "cell_type": "markdown",
   "metadata": {
    "colab_type": "text",
    "id": "3dkuGPdxrE53"
   },
   "source": [
    "**Vectorizer tfidf**"
   ]
  },
  {
   "cell_type": "code",
   "execution_count": 51,
   "metadata": {
    "colab": {
     "base_uri": "https://localhost:8080/",
     "height": 54
    },
    "colab_type": "code",
    "executionInfo": {
     "elapsed": 112722,
     "status": "ok",
     "timestamp": 1580221171217,
     "user": {
      "displayName": "Makk Claire",
      "photoUrl": "https://lh3.googleusercontent.com/a-/AAuE7mBu1ZMQH3mpVpSuIuyc2aP_rat1JyDOTBBHgaS0uw=s64",
      "userId": "01263964114703492317"
     },
     "user_tz": -60
    },
    "id": "jMrsu_0rrA4j",
    "outputId": "7b11b87d-c439-4291-eb5c-cc3a065167ce"
   },
   "outputs": [
    {
     "name": "stdout",
     "output_type": "stream",
     "text": [
      "{'C': 4.0, 'gamma': 0.20900000000000002} 0.5168918918918919\n",
      "1.0 0.5098039215686274\n"
     ]
    }
   ],
   "source": [
    "grille = grid.fit(X_train_vectorized_tfidf, y_train)\n",
    "print(grille.best_params_,grille.best_score_)\n",
    "predictions_valid = grille.predict(X_valid_vectorized_tfidf)\n",
    "predictions_train = grille.predict(X_train_vectorized_tfidf)\n",
    "print(accuracy_score(y_train, predictions_train),accuracy_score(y_valid, predictions_valid))\n",
    "resultat_tfidf['SVM']=accuracy_score(y_valid, predictions_valid)"
   ]
  },
  {
   "cell_type": "markdown",
   "metadata": {
    "colab_type": "text",
    "id": "IraUi-lKRg78"
   },
   "source": [
    "## **Régression Logistique**\n",
    "**Vectorizer binaire**"
   ]
  },
  {
   "cell_type": "code",
   "execution_count": 0,
   "metadata": {
    "colab": {},
    "colab_type": "code",
    "id": "jF7DSuFuRuMp"
   },
   "outputs": [],
   "source": [
    "param_grid = {'C': np.arange(0.5,5,0.1)} \n",
    "mlr = LogisticRegression(multi_class='multinomial', solver='lbfgs', max_iter = 1500)\n",
    "grid = model_selection.GridSearchCV(estimator=mlr,param_grid=param_grid,cv = 4, scoring='accuracy', n_jobs = -1)"
   ]
  },
  {
   "cell_type": "code",
   "execution_count": 53,
   "metadata": {
    "colab": {
     "base_uri": "https://localhost:8080/",
     "height": 54
    },
    "colab_type": "code",
    "executionInfo": {
     "elapsed": 121990,
     "status": "ok",
     "timestamp": 1580221180776,
     "user": {
      "displayName": "Makk Claire",
      "photoUrl": "https://lh3.googleusercontent.com/a-/AAuE7mBu1ZMQH3mpVpSuIuyc2aP_rat1JyDOTBBHgaS0uw=s64",
      "userId": "01263964114703492317"
     },
     "user_tz": -60
    },
    "id": "OUSsOhySM0W0",
    "outputId": "0b058ead-b071-49b7-dfc2-3d4b345d6e3d"
   },
   "outputs": [
    {
     "name": "stdout",
     "output_type": "stream",
     "text": [
      "{'C': 2.4999999999999996} 0.5096017069701281\n",
      "1.0 0.45098039215686275\n"
     ]
    }
   ],
   "source": [
    "grille = grid.fit(X_train_vectorized_bin, y_train)\n",
    "print(grille.best_params_,grille.best_score_)\n",
    "predictions_valid = grille.predict(X_valid_vectorized_bin)\n",
    "predictions_train = grille.predict(X_train_vectorized_bin)\n",
    "print(accuracy_score(y_train, predictions_train),accuracy_score(y_valid, predictions_valid))\n",
    "resultat_binaire['log']=accuracy_score(y_valid, predictions_valid)"
   ]
  },
  {
   "cell_type": "markdown",
   "metadata": {
    "colab_type": "text",
    "id": "-rvvP-Q1WDBP"
   },
   "source": [
    "**Vectorizer count**"
   ]
  },
  {
   "cell_type": "code",
   "execution_count": 54,
   "metadata": {
    "colab": {
     "base_uri": "https://localhost:8080/",
     "height": 54
    },
    "colab_type": "code",
    "executionInfo": {
     "elapsed": 129194,
     "status": "ok",
     "timestamp": 1580221188134,
     "user": {
      "displayName": "Makk Claire",
      "photoUrl": "https://lh3.googleusercontent.com/a-/AAuE7mBu1ZMQH3mpVpSuIuyc2aP_rat1JyDOTBBHgaS0uw=s64",
      "userId": "01263964114703492317"
     },
     "user_tz": -60
    },
    "id": "sR-d-wdMsctq",
    "outputId": "188167e3-518e-4492-94f7-6fea6cc77bfd"
   },
   "outputs": [
    {
     "name": "stdout",
     "output_type": "stream",
     "text": [
      "{'C': 3.599999999999999} 0.5296941678520626\n",
      "1.0 0.5098039215686274\n"
     ]
    }
   ],
   "source": [
    "grille = grid.fit(X_train_vectorized_count, y_train)\n",
    "print(grille.best_params_,grille.best_score_)\n",
    "predictions_valid = grille.predict(X_valid_vectorized_count)\n",
    "predictions_train = grille.predict(X_train_vectorized_count)\n",
    "print(accuracy_score(y_train, predictions_train),accuracy_score(y_valid, predictions_valid))\n",
    "resultat_count['log']=accuracy_score(y_valid, predictions_valid)"
   ]
  },
  {
   "cell_type": "markdown",
   "metadata": {
    "colab_type": "text",
    "id": "xDVa6uNytJns"
   },
   "source": [
    "**Vectorizer tfidf**"
   ]
  },
  {
   "cell_type": "code",
   "execution_count": 55,
   "metadata": {
    "colab": {
     "base_uri": "https://localhost:8080/",
     "height": 54
    },
    "colab_type": "code",
    "executionInfo": {
     "elapsed": 138146,
     "status": "ok",
     "timestamp": 1580221197274,
     "user": {
      "displayName": "Makk Claire",
      "photoUrl": "https://lh3.googleusercontent.com/a-/AAuE7mBu1ZMQH3mpVpSuIuyc2aP_rat1JyDOTBBHgaS0uw=s64",
      "userId": "01263964114703492317"
     },
     "user_tz": -60
    },
    "id": "9-Z-pE5dtME7",
    "outputId": "c38cc459-1025-4b69-c2cc-ee58ac2cd9d5"
   },
   "outputs": [
    {
     "name": "stdout",
     "output_type": "stream",
     "text": [
      "{'C': 4.899999999999999} 0.5236486486486487\n",
      "1.0 0.5294117647058824\n"
     ]
    }
   ],
   "source": [
    "grille = grid.fit(X_train_vectorized_tfidf, y_train)\n",
    "print(grille.best_params_,grille.best_score_)\n",
    "predictions_valid = grille.predict(X_valid_vectorized_tfidf)\n",
    "predictions_train = grille.predict(X_train_vectorized_tfidf)\n",
    "print(accuracy_score(y_train, predictions_train),accuracy_score(y_valid, predictions_valid))\n",
    "resultat_tfidf['log']=accuracy_score(y_valid, predictions_valid)"
   ]
  },
  {
   "cell_type": "markdown",
   "metadata": {
    "colab_type": "text",
    "id": "uyCPRd-BUvKy"
   },
   "source": [
    "## **RandomForest**\n",
    "**Vectorizer binaire**"
   ]
  },
  {
   "cell_type": "code",
   "execution_count": 0,
   "metadata": {
    "colab": {},
    "colab_type": "code",
    "id": "QSQfLK2MhnYM"
   },
   "outputs": [],
   "source": [
    "model_rf = RandomForestClassifier(n_estimators=1000, oob_score = True)"
   ]
  },
  {
   "cell_type": "code",
   "execution_count": 57,
   "metadata": {
    "colab": {
     "base_uri": "https://localhost:8080/",
     "height": 35
    },
    "colab_type": "code",
    "executionInfo": {
     "elapsed": 139440,
     "status": "ok",
     "timestamp": 1580221198848,
     "user": {
      "displayName": "Makk Claire",
      "photoUrl": "https://lh3.googleusercontent.com/a-/AAuE7mBu1ZMQH3mpVpSuIuyc2aP_rat1JyDOTBBHgaS0uw=s64",
      "userId": "01263964114703492317"
     },
     "user_tz": -60
    },
    "id": "8dAWhTFcUxIn",
    "outputId": "050d08b5-6af2-49fc-8c9a-7225047344a9"
   },
   "outputs": [
    {
     "name": "stdout",
     "output_type": "stream",
     "text": [
      "1.0 0.47058823529411764\n"
     ]
    }
   ],
   "source": [
    "model_rf.fit(X_train_vectorized_bin, y_train)\n",
    "predictions_valid = model_rf.predict(X_valid_vectorized_bin)\n",
    "predictions_train = model_rf.predict(X_train_vectorized_bin)\n",
    "print(accuracy_score(y_train, predictions_train),accuracy_score(y_valid, predictions_valid))\n",
    "resultat_binaire['rf']=accuracy_score(y_valid, predictions_valid)"
   ]
  },
  {
   "cell_type": "markdown",
   "metadata": {
    "colab_type": "text",
    "id": "HLjTCNhat-hS"
   },
   "source": [
    "**Vectorizer count**"
   ]
  },
  {
   "cell_type": "code",
   "execution_count": 58,
   "metadata": {
    "colab": {
     "base_uri": "https://localhost:8080/",
     "height": 35
    },
    "colab_type": "code",
    "executionInfo": {
     "elapsed": 142123,
     "status": "ok",
     "timestamp": 1580221201968,
     "user": {
      "displayName": "Makk Claire",
      "photoUrl": "https://lh3.googleusercontent.com/a-/AAuE7mBu1ZMQH3mpVpSuIuyc2aP_rat1JyDOTBBHgaS0uw=s64",
      "userId": "01263964114703492317"
     },
     "user_tz": -60
    },
    "id": "w4ZvpsWzU2cc",
    "outputId": "8cdb40c4-503e-4b67-d3f3-f04698a5bc36"
   },
   "outputs": [
    {
     "name": "stdout",
     "output_type": "stream",
     "text": [
      "1.0 0.49019607843137253\n"
     ]
    }
   ],
   "source": [
    "model_rf.fit(X_train_vectorized_count, y_train)\n",
    "predictions_valid = model_rf.predict(X_valid_vectorized_count)\n",
    "predictions_train = model_rf.predict(X_train_vectorized_count)\n",
    "print(accuracy_score(y_train, predictions_train),accuracy_score(y_valid, predictions_valid))\n",
    "resultat_count['rf']=accuracy_score(y_valid, predictions_valid)"
   ]
  },
  {
   "cell_type": "markdown",
   "metadata": {
    "colab_type": "text",
    "id": "Y5p3StudWKm1"
   },
   "source": [
    "**Vectorizer tfidf**"
   ]
  },
  {
   "cell_type": "code",
   "execution_count": 59,
   "metadata": {
    "colab": {
     "base_uri": "https://localhost:8080/",
     "height": 35
    },
    "colab_type": "code",
    "executionInfo": {
     "elapsed": 144134,
     "status": "ok",
     "timestamp": 1580221204209,
     "user": {
      "displayName": "Makk Claire",
      "photoUrl": "https://lh3.googleusercontent.com/a-/AAuE7mBu1ZMQH3mpVpSuIuyc2aP_rat1JyDOTBBHgaS0uw=s64",
      "userId": "01263964114703492317"
     },
     "user_tz": -60
    },
    "id": "j5RlAyvPuLzl",
    "outputId": "8e5a65f9-34dd-4668-ffab-f25fecd3dbeb"
   },
   "outputs": [
    {
     "name": "stdout",
     "output_type": "stream",
     "text": [
      "1.0 0.39215686274509803\n"
     ]
    }
   ],
   "source": [
    "model_rf.fit(X_train_vectorized_tfidf, y_train)\n",
    "predictions_valid = model_rf.predict(X_valid_vectorized_tfidf)\n",
    "predictions_train = model_rf.predict(X_train_vectorized_tfidf)\n",
    "print(accuracy_score(y_train, predictions_train),accuracy_score(y_valid, predictions_valid))\n",
    "resultat_tfidf['rf']=accuracy_score(y_valid, predictions_valid)"
   ]
  },
  {
   "cell_type": "markdown",
   "metadata": {
    "colab_type": "text",
    "id": "-rjDPE3GuxT5"
   },
   "source": [
    "## **Ridge Classifieur**\n",
    "**Vectorizer binaire**"
   ]
  },
  {
   "cell_type": "code",
   "execution_count": 0,
   "metadata": {
    "colab": {},
    "colab_type": "code",
    "id": "WQvM-z3Thz0M"
   },
   "outputs": [],
   "source": [
    "param_grid = {'alpha': [0.001,0.01,0.01,0.1,1,10,100]}\n",
    "mridge = RidgeClassifier(tol=0.01)\n",
    "grid = model_selection.GridSearchCV(estimator=mridge,param_grid=param_grid,cv = 4, scoring='accuracy', n_jobs = -1)"
   ]
  },
  {
   "cell_type": "code",
   "execution_count": 61,
   "metadata": {
    "colab": {
     "base_uri": "https://localhost:8080/",
     "height": 54
    },
    "colab_type": "code",
    "executionInfo": {
     "elapsed": 144644,
     "status": "ok",
     "timestamp": 1580221205035,
     "user": {
      "displayName": "Makk Claire",
      "photoUrl": "https://lh3.googleusercontent.com/a-/AAuE7mBu1ZMQH3mpVpSuIuyc2aP_rat1JyDOTBBHgaS0uw=s64",
      "userId": "01263964114703492317"
     },
     "user_tz": -60
    },
    "id": "XoQQFRaBu92Y",
    "outputId": "07259013-ea79-47e7-c9b1-a5b6d662538a"
   },
   "outputs": [
    {
     "name": "stdout",
     "output_type": "stream",
     "text": [
      "{'alpha': 10} 0.4767069701280227\n",
      "1.0 0.5098039215686274\n"
     ]
    }
   ],
   "source": [
    "grille = grid.fit(X_train_vectorized_bin, y_train)\n",
    "print(grille.best_params_,grille.best_score_)\n",
    "predictions_valid = grille.predict(X_valid_vectorized_bin)\n",
    "predictions_train = grille.predict(X_train_vectorized_bin)\n",
    "print(accuracy_score(y_train, predictions_train),accuracy_score(y_valid, predictions_valid))\n",
    "resultat_binaire['ridge']=accuracy_score(y_valid, predictions_valid)"
   ]
  },
  {
   "cell_type": "markdown",
   "metadata": {
    "colab_type": "text",
    "id": "rU7LVVWKvH0T"
   },
   "source": [
    "**Vectorizer count**"
   ]
  },
  {
   "cell_type": "code",
   "execution_count": 62,
   "metadata": {
    "colab": {
     "base_uri": "https://localhost:8080/",
     "height": 54
    },
    "colab_type": "code",
    "executionInfo": {
     "elapsed": 146020,
     "status": "ok",
     "timestamp": 1580221206763,
     "user": {
      "displayName": "Makk Claire",
      "photoUrl": "https://lh3.googleusercontent.com/a-/AAuE7mBu1ZMQH3mpVpSuIuyc2aP_rat1JyDOTBBHgaS0uw=s64",
      "userId": "01263964114703492317"
     },
     "user_tz": -60
    },
    "id": "WOWnhFsKvKEf",
    "outputId": "6e2af6ac-b9c1-487d-ff9b-76bc0b5108b8"
   },
   "outputs": [
    {
     "name": "stdout",
     "output_type": "stream",
     "text": [
      "{'alpha': 10} 0.5033783783783784\n",
      "0.9933774834437086 0.5098039215686274\n"
     ]
    }
   ],
   "source": [
    "grille = grid.fit(X_train_vectorized_count, y_train)\n",
    "print(grille.best_params_,grille.best_score_)\n",
    "predictions_valid = grille.predict(X_valid_vectorized_count)\n",
    "predictions_train = grille.predict(X_train_vectorized_count)\n",
    "print(accuracy_score(y_train, predictions_train),accuracy_score(y_valid, predictions_valid))\n",
    "resultat_count['ridge']=accuracy_score(y_valid, predictions_valid)"
   ]
  },
  {
   "cell_type": "markdown",
   "metadata": {
    "colab_type": "text",
    "id": "_AbpqnoKvRQT"
   },
   "source": [
    "**Vectorizer tfidf**"
   ]
  },
  {
   "cell_type": "code",
   "execution_count": 63,
   "metadata": {
    "colab": {
     "base_uri": "https://localhost:8080/",
     "height": 54
    },
    "colab_type": "code",
    "executionInfo": {
     "elapsed": 146228,
     "status": "ok",
     "timestamp": 1580221207145,
     "user": {
      "displayName": "Makk Claire",
      "photoUrl": "https://lh3.googleusercontent.com/a-/AAuE7mBu1ZMQH3mpVpSuIuyc2aP_rat1JyDOTBBHgaS0uw=s64",
      "userId": "01263964114703492317"
     },
     "user_tz": -60
    },
    "id": "W0YIwZI0vOKk",
    "outputId": "1bfe393d-484d-44aa-a154-ada660173d9d"
   },
   "outputs": [
    {
     "name": "stdout",
     "output_type": "stream",
     "text": [
      "{'alpha': 0.001} 0.5892603129445235\n",
      "1.0 0.6470588235294118\n"
     ]
    }
   ],
   "source": [
    "grille = grid.fit(X_train_vectorized_tfidf, y_train)\n",
    "print(grille.best_params_,grille.best_score_)\n",
    "predictions_valid = grille.predict(X_valid_vectorized_tfidf)\n",
    "predictions_train = grille.predict(X_train_vectorized_tfidf)\n",
    "print(accuracy_score(y_train, predictions_train),accuracy_score(y_valid, predictions_valid))\n",
    "resultat_tfidf['ridge']=accuracy_score(y_valid, predictions_valid)"
   ]
  },
  {
   "cell_type": "markdown",
   "metadata": {
    "colab_type": "text",
    "id": "YTl3s8-CvT8J"
   },
   "source": [
    "## **Naif bayésien**\n",
    "**Vectorizer binaire**"
   ]
  },
  {
   "cell_type": "code",
   "execution_count": 64,
   "metadata": {
    "colab": {
     "base_uri": "https://localhost:8080/",
     "height": 35
    },
    "colab_type": "code",
    "executionInfo": {
     "elapsed": 145966,
     "status": "ok",
     "timestamp": 1580221207147,
     "user": {
      "displayName": "Makk Claire",
      "photoUrl": "https://lh3.googleusercontent.com/a-/AAuE7mBu1ZMQH3mpVpSuIuyc2aP_rat1JyDOTBBHgaS0uw=s64",
      "userId": "01263964114703492317"
     },
     "user_tz": -60
    },
    "id": "fVN8K5QcvaVT",
    "outputId": "73809df7-0971-4b2a-ac47-c696cdb12e45"
   },
   "outputs": [
    {
     "name": "stdout",
     "output_type": "stream",
     "text": [
      "0.9602649006622517 0.5490196078431373\n"
     ]
    }
   ],
   "source": [
    "model_nb = MultinomialNB().fit(X_train_vectorized_bin, y_train)\n",
    "predictions_valid = model_nb.predict(X_valid_vectorized_bin)\n",
    "predictions_train = model_nb.predict(X_train_vectorized_bin)\n",
    "print(accuracy_score(y_train, predictions_train),accuracy_score(y_valid, predictions_valid))\n",
    "resultat_binaire['naive']=accuracy_score(y_valid, predictions_valid)"
   ]
  },
  {
   "cell_type": "markdown",
   "metadata": {
    "colab_type": "text",
    "id": "8PWoLCMVvmUB"
   },
   "source": [
    "**Vectorizer count**"
   ]
  },
  {
   "cell_type": "code",
   "execution_count": 65,
   "metadata": {
    "colab": {
     "base_uri": "https://localhost:8080/",
     "height": 35
    },
    "colab_type": "code",
    "executionInfo": {
     "elapsed": 145789,
     "status": "ok",
     "timestamp": 1580221207148,
     "user": {
      "displayName": "Makk Claire",
      "photoUrl": "https://lh3.googleusercontent.com/a-/AAuE7mBu1ZMQH3mpVpSuIuyc2aP_rat1JyDOTBBHgaS0uw=s64",
      "userId": "01263964114703492317"
     },
     "user_tz": -60
    },
    "id": "7tfjAIs-vcNC",
    "outputId": "2371941f-6035-407e-bb0b-26b0285fcddb"
   },
   "outputs": [
    {
     "name": "stdout",
     "output_type": "stream",
     "text": [
      "0.9337748344370861 0.5882352941176471\n"
     ]
    }
   ],
   "source": [
    "model_nb = MultinomialNB().fit(X_train_vectorized_count, y_train)\n",
    "predictions_valid = model_nb.predict(X_valid_vectorized_count)\n",
    "predictions_train = model_nb.predict(X_train_vectorized_count)\n",
    "print(accuracy_score(y_train, predictions_train),accuracy_score(y_valid, predictions_valid))\n",
    "resultat_count['naive']=accuracy_score(y_valid, predictions_valid)"
   ]
  },
  {
   "cell_type": "markdown",
   "metadata": {
    "colab_type": "text",
    "id": "XLdICeHpvnV2"
   },
   "source": [
    "**Vectorizer tfidf**"
   ]
  },
  {
   "cell_type": "code",
   "execution_count": 66,
   "metadata": {
    "colab": {
     "base_uri": "https://localhost:8080/",
     "height": 35
    },
    "colab_type": "code",
    "executionInfo": {
     "elapsed": 145556,
     "status": "ok",
     "timestamp": 1580221207149,
     "user": {
      "displayName": "Makk Claire",
      "photoUrl": "https://lh3.googleusercontent.com/a-/AAuE7mBu1ZMQH3mpVpSuIuyc2aP_rat1JyDOTBBHgaS0uw=s64",
      "userId": "01263964114703492317"
     },
     "user_tz": -60
    },
    "id": "pErNRFKzvhCd",
    "outputId": "c8057f5a-9a05-431e-9c75-226c1a7d71f9"
   },
   "outputs": [
    {
     "name": "stdout",
     "output_type": "stream",
     "text": [
      "0.7748344370860927 0.37254901960784315\n"
     ]
    }
   ],
   "source": [
    "model_nb = MultinomialNB().fit(X_train_vectorized_tfidf, y_train)\n",
    "predictions_valid = model_nb.predict(X_valid_vectorized_tfidf)\n",
    "predictions_train = model_nb.predict(X_train_vectorized_tfidf)\n",
    "print(accuracy_score(y_train, predictions_train),accuracy_score(y_valid, predictions_valid))\n",
    "resultat_tfidf['naive']=accuracy_score(y_valid, predictions_valid)"
   ]
  },
  {
   "cell_type": "markdown",
   "metadata": {
    "colab_type": "text",
    "id": "3C-1wcqqv901"
   },
   "source": [
    "## **Boosting**\n",
    "**Vectorizer binaire**"
   ]
  },
  {
   "cell_type": "code",
   "execution_count": 0,
   "metadata": {
    "colab": {},
    "colab_type": "code",
    "id": "R05s_g48iAG_"
   },
   "outputs": [],
   "source": [
    "param_grid = {'learning_rate':[0.01,0.1,1.0,10.0]}\n",
    "mboosting = GradientBoostingClassifier()\n",
    "grid = model_selection.GridSearchCV(estimator=mboosting,param_grid=param_grid,cv = 4, scoring='accuracy', n_jobs = -1)"
   ]
  },
  {
   "cell_type": "code",
   "execution_count": 68,
   "metadata": {
    "colab": {
     "base_uri": "https://localhost:8080/",
     "height": 35
    },
    "colab_type": "code",
    "executionInfo": {
     "elapsed": 162961,
     "status": "ok",
     "timestamp": 1580221224980,
     "user": {
      "displayName": "Makk Claire",
      "photoUrl": "https://lh3.googleusercontent.com/a-/AAuE7mBu1ZMQH3mpVpSuIuyc2aP_rat1JyDOTBBHgaS0uw=s64",
      "userId": "01263964114703492317"
     },
     "user_tz": -60
    },
    "id": "KCJxf5ySwDeQ",
    "outputId": "3bdb72a9-d41b-4859-eabf-0ad97b85a0dd"
   },
   "outputs": [
    {
     "name": "stdout",
     "output_type": "stream",
     "text": [
      "0.8940397350993378 0.47058823529411764\n"
     ]
    }
   ],
   "source": [
    "grille = grid.fit(X_train_vectorized_bin, y_train)\n",
    "predictions_valid = grille.predict(X_valid_vectorized_bin)\n",
    "predictions_train = grille.predict(X_train_vectorized_bin)\n",
    "print(accuracy_score(y_train, predictions_train),accuracy_score(y_valid, predictions_valid))\n",
    "resultat_binaire['boosting']=accuracy_score(y_valid, predictions_valid)"
   ]
  },
  {
   "cell_type": "markdown",
   "metadata": {
    "colab_type": "text",
    "id": "bHZi_CVjwKLB"
   },
   "source": [
    "**Vectorize count**"
   ]
  },
  {
   "cell_type": "code",
   "execution_count": 69,
   "metadata": {
    "colab": {
     "base_uri": "https://localhost:8080/",
     "height": 35
    },
    "colab_type": "code",
    "executionInfo": {
     "elapsed": 180100,
     "status": "ok",
     "timestamp": 1580221242387,
     "user": {
      "displayName": "Makk Claire",
      "photoUrl": "https://lh3.googleusercontent.com/a-/AAuE7mBu1ZMQH3mpVpSuIuyc2aP_rat1JyDOTBBHgaS0uw=s64",
      "userId": "01263964114703492317"
     },
     "user_tz": -60
    },
    "id": "ggI90JP5wMM9",
    "outputId": "77ae8dc1-897a-4575-859d-a55815e338c4"
   },
   "outputs": [
    {
     "name": "stdout",
     "output_type": "stream",
     "text": [
      "0.8741721854304636 0.43137254901960786\n"
     ]
    }
   ],
   "source": [
    "grille = grid.fit(X_train_vectorized_count, y_train)\n",
    "predictions_valid = grille.predict(X_valid_vectorized_count)\n",
    "predictions_train = grille.predict(X_train_vectorized_count)\n",
    "print(accuracy_score(y_train, predictions_train),accuracy_score(y_valid, predictions_valid))\n",
    "resultat_count['boosting']=accuracy_score(y_valid, predictions_valid)"
   ]
  },
  {
   "cell_type": "markdown",
   "metadata": {
    "colab_type": "text",
    "id": "CIKjbmlqwPaa"
   },
   "source": [
    "**Vectorizer tfidf**"
   ]
  },
  {
   "cell_type": "code",
   "execution_count": 70,
   "metadata": {
    "colab": {
     "base_uri": "https://localhost:8080/",
     "height": 35
    },
    "colab_type": "code",
    "executionInfo": {
     "elapsed": 198221,
     "status": "ok",
     "timestamp": 1580221260686,
     "user": {
      "displayName": "Makk Claire",
      "photoUrl": "https://lh3.googleusercontent.com/a-/AAuE7mBu1ZMQH3mpVpSuIuyc2aP_rat1JyDOTBBHgaS0uw=s64",
      "userId": "01263964114703492317"
     },
     "user_tz": -60
    },
    "id": "XEmBBX5owRat",
    "outputId": "7fdc78c0-8798-4fb2-f3c0-d04ae872902d"
   },
   "outputs": [
    {
     "name": "stdout",
     "output_type": "stream",
     "text": [
      "0.9403973509933775 0.39215686274509803\n"
     ]
    }
   ],
   "source": [
    "grille = grid.fit(X_train_vectorized_tfidf, y_train)\n",
    "predictions_valid = grille.predict(X_valid_vectorized_tfidf)\n",
    "predictions_train = grille.predict(X_train_vectorized_tfidf)\n",
    "print(accuracy_score(y_train, predictions_train),accuracy_score(y_valid, predictions_valid))\n",
    "resultat_tfidf['boosting']=accuracy_score(y_valid, predictions_valid)"
   ]
  },
  {
   "cell_type": "markdown",
   "metadata": {
    "colab_type": "text",
    "id": "0Vb3MzfEwYi8"
   },
   "source": [
    "## **AdaBoost Classifier**\n",
    "**Vectorizer binaire**"
   ]
  },
  {
   "cell_type": "code",
   "execution_count": 0,
   "metadata": {
    "colab": {},
    "colab_type": "code",
    "id": "MYT93wNowgwS"
   },
   "outputs": [],
   "source": [
    "param_grid = {'learning_rate':[0.01,0.1,1.0,10.0], 'n_estimators':[50,60,70,80,90,100]}\n",
    "madaboost = AdaBoostClassifier()\n",
    "grid = model_selection.GridSearchCV(estimator=madaboost,param_grid=param_grid,cv = 4, scoring='accuracy', n_jobs = -1)"
   ]
  },
  {
   "cell_type": "code",
   "execution_count": 72,
   "metadata": {
    "colab": {
     "base_uri": "https://localhost:8080/",
     "height": 35
    },
    "colab_type": "code",
    "executionInfo": {
     "elapsed": 212200,
     "status": "ok",
     "timestamp": 1580221275080,
     "user": {
      "displayName": "Makk Claire",
      "photoUrl": "https://lh3.googleusercontent.com/a-/AAuE7mBu1ZMQH3mpVpSuIuyc2aP_rat1JyDOTBBHgaS0uw=s64",
      "userId": "01263964114703492317"
     },
     "user_tz": -60
    },
    "id": "SlBxDnh2wjBl",
    "outputId": "dfcb2840-154a-4fab-fdd4-06129def5250"
   },
   "outputs": [
    {
     "name": "stdout",
     "output_type": "stream",
     "text": [
      "0.5827814569536424 0.21568627450980393\n"
     ]
    }
   ],
   "source": [
    "grille = grid.fit(X_train_vectorized_bin, y_train)\n",
    "predictions_valid = grille.predict(X_valid_vectorized_bin)\n",
    "predictions_train = grille.predict(X_train_vectorized_bin)\n",
    "print(accuracy_score(y_train, predictions_train),accuracy_score(y_valid, predictions_valid))\n",
    "resultat_binaire['adaboost']=accuracy_score(y_valid, predictions_valid)"
   ]
  },
  {
   "cell_type": "markdown",
   "metadata": {
    "colab_type": "text",
    "id": "CN5RG7kBwjSa"
   },
   "source": [
    "**Vectorizer count**"
   ]
  },
  {
   "cell_type": "code",
   "execution_count": 73,
   "metadata": {
    "colab": {
     "base_uri": "https://localhost:8080/",
     "height": 35
    },
    "colab_type": "code",
    "executionInfo": {
     "elapsed": 225976,
     "status": "ok",
     "timestamp": 1580221289437,
     "user": {
      "displayName": "Makk Claire",
      "photoUrl": "https://lh3.googleusercontent.com/a-/AAuE7mBu1ZMQH3mpVpSuIuyc2aP_rat1JyDOTBBHgaS0uw=s64",
      "userId": "01263964114703492317"
     },
     "user_tz": -60
    },
    "id": "uYUbQ3ymw1UN",
    "outputId": "3158fb64-a868-479f-a496-46a2102f1fab"
   },
   "outputs": [
    {
     "name": "stdout",
     "output_type": "stream",
     "text": [
      "0.5364238410596026 0.2549019607843137\n"
     ]
    }
   ],
   "source": [
    "grille = grid.fit(X_train_vectorized_count, y_train)\n",
    "predictions_valid = grille.predict(X_valid_vectorized_count)\n",
    "predictions_train = grille.predict(X_train_vectorized_count)\n",
    "print(accuracy_score(y_train, predictions_train),accuracy_score(y_valid, predictions_valid))\n",
    "resultat_count['adaboost']=accuracy_score(y_valid, predictions_valid)"
   ]
  },
  {
   "cell_type": "markdown",
   "metadata": {
    "colab_type": "text",
    "id": "0NVKRnLvwyWz"
   },
   "source": [
    "**Vectorizer tfidf**"
   ]
  },
  {
   "cell_type": "code",
   "execution_count": 74,
   "metadata": {
    "colab": {
     "base_uri": "https://localhost:8080/",
     "height": 35
    },
    "colab_type": "code",
    "executionInfo": {
     "elapsed": 240890,
     "status": "ok",
     "timestamp": 1580221304972,
     "user": {
      "displayName": "Makk Claire",
      "photoUrl": "https://lh3.googleusercontent.com/a-/AAuE7mBu1ZMQH3mpVpSuIuyc2aP_rat1JyDOTBBHgaS0uw=s64",
      "userId": "01263964114703492317"
     },
     "user_tz": -60
    },
    "id": "6zOfqf0Bw6Y4",
    "outputId": "d2079cb5-d221-44b8-fb4e-db1d93f6ca7a"
   },
   "outputs": [
    {
     "name": "stdout",
     "output_type": "stream",
     "text": [
      "0.5894039735099338 0.29411764705882354\n"
     ]
    }
   ],
   "source": [
    "grille = grid.fit(X_train_vectorized_tfidf, y_train)\n",
    "predictions_valid = grille.predict(X_valid_vectorized_tfidf)\n",
    "predictions_train = grille.predict(X_train_vectorized_tfidf)\n",
    "print(accuracy_score(y_train, predictions_train),accuracy_score(y_valid, predictions_valid))\n",
    "resultat_tfidf['adaboost']=accuracy_score(y_valid, predictions_valid)"
   ]
  },
  {
   "cell_type": "markdown",
   "metadata": {
    "colab_type": "text",
    "id": "NBAKZRIdw8oq"
   },
   "source": [
    "## **Restitution de l'ensemble des résultats**"
   ]
  },
  {
   "cell_type": "code",
   "execution_count": 75,
   "metadata": {
    "colab": {
     "base_uri": "https://localhost:8080/",
     "height": 143
    },
    "colab_type": "code",
    "executionInfo": {
     "elapsed": 240113,
     "status": "ok",
     "timestamp": 1580221304976,
     "user": {
      "displayName": "Makk Claire",
      "photoUrl": "https://lh3.googleusercontent.com/a-/AAuE7mBu1ZMQH3mpVpSuIuyc2aP_rat1JyDOTBBHgaS0uw=s64",
      "userId": "01263964114703492317"
     },
     "user_tz": -60
    },
    "id": "tfcdRcOnvsGN",
    "outputId": "f1c75819-794d-4ba3-bcdb-abe941fbe209"
   },
   "outputs": [
    {
     "data": {
      "text/html": [
       "<div>\n",
       "<style scoped>\n",
       "    .dataframe tbody tr th:only-of-type {\n",
       "        vertical-align: middle;\n",
       "    }\n",
       "\n",
       "    .dataframe tbody tr th {\n",
       "        vertical-align: top;\n",
       "    }\n",
       "\n",
       "    .dataframe thead th {\n",
       "        text-align: right;\n",
       "    }\n",
       "</style>\n",
       "<table border=\"1\" class=\"dataframe\">\n",
       "  <thead>\n",
       "    <tr style=\"text-align: right;\">\n",
       "      <th></th>\n",
       "      <th>SVM</th>\n",
       "      <th>log</th>\n",
       "      <th>rf</th>\n",
       "      <th>ridge</th>\n",
       "      <th>naive</th>\n",
       "      <th>boosting</th>\n",
       "      <th>adaboost</th>\n",
       "    </tr>\n",
       "  </thead>\n",
       "  <tbody>\n",
       "    <tr>\n",
       "      <th>binaire</th>\n",
       "      <td>0.352941</td>\n",
       "      <td>0.450980</td>\n",
       "      <td>0.470588</td>\n",
       "      <td>0.509804</td>\n",
       "      <td>0.549020</td>\n",
       "      <td>0.470588</td>\n",
       "      <td>0.215686</td>\n",
       "    </tr>\n",
       "    <tr>\n",
       "      <th>count</th>\n",
       "      <td>0.392157</td>\n",
       "      <td>0.509804</td>\n",
       "      <td>0.490196</td>\n",
       "      <td>0.509804</td>\n",
       "      <td>0.588235</td>\n",
       "      <td>0.431373</td>\n",
       "      <td>0.254902</td>\n",
       "    </tr>\n",
       "    <tr>\n",
       "      <th>tfidf</th>\n",
       "      <td>0.509804</td>\n",
       "      <td>0.529412</td>\n",
       "      <td>0.392157</td>\n",
       "      <td>0.647059</td>\n",
       "      <td>0.372549</td>\n",
       "      <td>0.392157</td>\n",
       "      <td>0.294118</td>\n",
       "    </tr>\n",
       "  </tbody>\n",
       "</table>\n",
       "</div>"
      ],
      "text/plain": [
       "              SVM       log        rf     ridge     naive  boosting  adaboost\n",
       "binaire  0.352941  0.450980  0.470588  0.509804  0.549020  0.470588  0.215686\n",
       "count    0.392157  0.509804  0.490196  0.509804  0.588235  0.431373  0.254902\n",
       "tfidf    0.509804  0.529412  0.392157  0.647059  0.372549  0.392157  0.294118"
      ]
     },
     "execution_count": 75,
     "metadata": {
      "tags": []
     },
     "output_type": "execute_result"
    }
   ],
   "source": [
    "resultat = [resultat_binaire,resultat_count,resultat_tfidf]\n",
    "pd.DataFrame(resultat,index=['binaire','count','tfidf'])"
   ]
  },
  {
   "cell_type": "markdown",
   "metadata": {
    "colab_type": "text",
    "id": "dgU6JlWoiqlm"
   },
   "source": [
    "## **Réapprendre le meilleur sur l'ensemble du corpus :**"
   ]
  },
  {
   "cell_type": "code",
   "execution_count": 0,
   "metadata": {
    "colab": {},
    "colab_type": "code",
    "id": "qAv8KyEY6uSq"
   },
   "outputs": [],
   "source": [
    "vectorizer2 = TfidfVectorizer(lowercase=True,\n",
    "                              stop_words=sw,\n",
    "                              strip_accents='unicode',\n",
    "                              max_df=0.5).fit(collection2)\n",
    "collection_vect = vectorizer2.transform(collection2)\n",
    "classifieur2 = RidgeClassifier(tol=0.01,alpha=0.001).fit(collection_vect, themes2)"
   ]
  },
  {
   "cell_type": "code",
   "execution_count": 77,
   "metadata": {
    "colab": {
     "base_uri": "https://localhost:8080/",
     "height": 35
    },
    "colab_type": "code",
    "executionInfo": {
     "elapsed": 1961,
     "status": "ok",
     "timestamp": 1580221333744,
     "user": {
      "displayName": "Makk Claire",
      "photoUrl": "https://lh3.googleusercontent.com/a-/AAuE7mBu1ZMQH3mpVpSuIuyc2aP_rat1JyDOTBBHgaS0uw=s64",
      "userId": "01263964114703492317"
     },
     "user_tz": -60
    },
    "id": "jAd44ZE0rH37",
    "outputId": "dd41d34a-ae2a-45f8-ec9d-d0145c758098"
   },
   "outputs": [
    {
     "data": {
      "text/plain": [
       "['../Data/vectoriseur2.pkl']"
      ]
     },
     "execution_count": 77,
     "metadata": {
      "tags": []
     },
     "output_type": "execute_result"
    }
   ],
   "source": [
    "from sklearn.externals import joblib\n",
    "joblib.dump(classifieur2, '../Data/classifieur2.pkl')\n",
    "joblib.dump(vectorizer2, '../Data/vectoriseur2.pkl')"
   ]
  },
  {
   "cell_type": "code",
   "execution_count": 0,
   "metadata": {
    "colab": {},
    "colab_type": "code",
    "id": "pD-9mjsah_dl"
   },
   "outputs": [],
   "source": []
  }
 ],
 "metadata": {
  "colab": {
   "authorship_tag": "ABX9TyMRb11EPnrFFz84zAyj5dlk",
   "collapsed_sections": [],
   "name": "Classifieur_Thematique.ipynb",
   "provenance": []
  },
  "kernelspec": {
   "display_name": "Python 3",
   "language": "python",
   "name": "python3"
  },
  "language_info": {
   "codemirror_mode": {
    "name": "ipython",
    "version": 3
   },
   "file_extension": ".py",
   "mimetype": "text/x-python",
   "name": "python",
   "nbconvert_exporter": "python",
   "pygments_lexer": "ipython3",
   "version": "3.7.3"
  }
 },
 "nbformat": 4,
 "nbformat_minor": 1
}
